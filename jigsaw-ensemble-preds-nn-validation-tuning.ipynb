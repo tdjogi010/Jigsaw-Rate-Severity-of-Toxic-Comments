{
 "cells": [
  {
   "cell_type": "code",
   "execution_count": 1,
   "metadata": {},
   "outputs": [],
   "source": [
    "import pandas as pd\n",
    "import numpy as np\n",
    "import tensorflow as tf\n",
    "from tensorflow import keras\n",
    "from tensorflow.keras import layers\n",
    "from sklearn.model_selection import train_test_split\n"
   ]
  },
  {
   "cell_type": "code",
   "execution_count": 13,
   "metadata": {},
   "outputs": [],
   "source": [
    "## constants ##\n",
    "score_key =\"score\"\n",
    "ruddit_data_path = \"./train/removed_redundant_ruddit_with_text.csv\"\n",
    "test_size_percent = 0.2 # 20% test/val data\n",
    "log_dir = \"./log/ensemble-nn-tuning/\"\n",
    "final_train_filepath = \"./output/ensemble-nn-tuning/final_model\"\n"
   ]
  },
  {
   "cell_type": "code",
   "execution_count": 3,
   "metadata": {},
   "outputs": [
    {
     "data": {
      "text/plain": [
       "(5710, 3)"
      ]
     },
     "execution_count": 3,
     "metadata": {},
     "output_type": "execute_result"
    }
   ],
   "source": [
    "ruddit_df = pd.read_csv(ruddit_data_path)\n",
    "ruddit_df.shape"
   ]
  },
  {
   "cell_type": "code",
   "execution_count": 4,
   "metadata": {},
   "outputs": [
    {
     "data": {
      "text/plain": [
       "((5710,), (5710,), (5710,), (5710,), (5710,))"
      ]
     },
     "execution_count": 4,
     "metadata": {},
     "output_type": "execute_result"
    }
   ],
   "source": [
    "bert_1_bilstm_preds = pd.read_csv(\"./output/bert-1-bilstm-epoch-2-ruddit-preds.csv\")[score_key]\n",
    "bert_2_bilstm_preds = pd.read_csv(\"./output/bert-2-bilstm-epoch-2-ruddit-preds.csv\")[score_key]\n",
    "\n",
    "unitaryAI_preds_df = pd.read_csv(\"./output/unitaryAI-3-preds.csv\")\n",
    "original_preds = unitaryAI_preds_df[\"original\"]\n",
    "unbiased_preds = unitaryAI_preds_df[\"unbiased\"]\n",
    "multilingual_preds = unitaryAI_preds_df[\"multilingual\"]\n",
    "\n",
    "bert_1_bilstm_preds.shape, bert_2_bilstm_preds.shape, original_preds.shape, unbiased_preds.shape, multilingual_preds.shape"
   ]
  },
  {
   "cell_type": "code",
   "execution_count": 5,
   "metadata": {},
   "outputs": [
    {
     "data": {
      "text/plain": [
       "(array([[0.08340063, 0.10924673, 0.00136673, 0.00725068, 0.00714219],\n",
       "        [0.30339277, 0.22755435, 0.00210346, 0.00850783, 0.21569288],\n",
       "        [0.3519706 , 0.42682526, 0.46482915, 0.08537298, 0.03407657],\n",
       "        ...,\n",
       "        [0.10334039, 0.09215485, 0.00194553, 0.0008212 , 0.0027297 ],\n",
       "        [0.15009415, 0.21410424, 0.00151555, 0.00102995, 0.00113789],\n",
       "        [0.0714389 , 0.09716053, 0.04199111, 0.00102843, 0.00095666]]),\n",
       " (5710, 5))"
      ]
     },
     "execution_count": 5,
     "metadata": {},
     "output_type": "execute_result"
    }
   ],
   "source": [
    "all_preds = np.dstack((bert_1_bilstm_preds, bert_2_bilstm_preds, original_preds, unbiased_preds, multilingual_preds))\n",
    "all_preds = all_preds[0, :, :]\n",
    "all_preds, all_preds.shape # can cross check all_preds[:, 0], bert_1_bilstm_preds"
   ]
  },
  {
   "cell_type": "code",
   "execution_count": 6,
   "metadata": {},
   "outputs": [
    {
     "name": "stderr",
     "output_type": "stream",
     "text": [
      "2022-02-03 23:06:41.887532: I tensorflow/stream_executor/cuda/cuda_gpu_executor.cc:923] could not open file to read NUMA node: /sys/bus/pci/devices/0000:2b:00.0/numa_node\n",
      "Your kernel may have been built without NUMA support.\n",
      "2022-02-03 23:06:41.909002: I tensorflow/stream_executor/cuda/cuda_gpu_executor.cc:923] could not open file to read NUMA node: /sys/bus/pci/devices/0000:2b:00.0/numa_node\n",
      "Your kernel may have been built without NUMA support.\n",
      "2022-02-03 23:06:41.909303: I tensorflow/stream_executor/cuda/cuda_gpu_executor.cc:923] could not open file to read NUMA node: /sys/bus/pci/devices/0000:2b:00.0/numa_node\n",
      "Your kernel may have been built without NUMA support.\n",
      "2022-02-03 23:06:41.909766: I tensorflow/core/platform/cpu_feature_guard.cc:142] This TensorFlow binary is optimized with oneAPI Deep Neural Network Library (oneDNN) to use the following CPU instructions in performance-critical operations:  SSE4.1 SSE4.2 AVX AVX2 FMA\n",
      "To enable them in other operations, rebuild TensorFlow with the appropriate compiler flags.\n",
      "2022-02-03 23:06:41.910741: I tensorflow/stream_executor/cuda/cuda_gpu_executor.cc:923] could not open file to read NUMA node: /sys/bus/pci/devices/0000:2b:00.0/numa_node\n",
      "Your kernel may have been built without NUMA support.\n",
      "2022-02-03 23:06:41.911054: I tensorflow/stream_executor/cuda/cuda_gpu_executor.cc:923] could not open file to read NUMA node: /sys/bus/pci/devices/0000:2b:00.0/numa_node\n",
      "Your kernel may have been built without NUMA support.\n",
      "2022-02-03 23:06:41.911293: I tensorflow/stream_executor/cuda/cuda_gpu_executor.cc:923] could not open file to read NUMA node: /sys/bus/pci/devices/0000:2b:00.0/numa_node\n",
      "Your kernel may have been built without NUMA support.\n",
      "2022-02-03 23:06:42.628126: I tensorflow/stream_executor/cuda/cuda_gpu_executor.cc:923] could not open file to read NUMA node: /sys/bus/pci/devices/0000:2b:00.0/numa_node\n",
      "Your kernel may have been built without NUMA support.\n",
      "2022-02-03 23:06:42.628628: I tensorflow/stream_executor/cuda/cuda_gpu_executor.cc:923] could not open file to read NUMA node: /sys/bus/pci/devices/0000:2b:00.0/numa_node\n",
      "Your kernel may have been built without NUMA support.\n",
      "2022-02-03 23:06:42.628641: I tensorflow/core/common_runtime/gpu/gpu_device.cc:1594] Could not identify NUMA node of platform GPU id 0, defaulting to 0.  Your kernel may not have been built with NUMA support.\n",
      "2022-02-03 23:06:42.628907: I tensorflow/stream_executor/cuda/cuda_gpu_executor.cc:923] could not open file to read NUMA node: /sys/bus/pci/devices/0000:2b:00.0/numa_node\n",
      "Your kernel may have been built without NUMA support.\n",
      "2022-02-03 23:06:42.628935: I tensorflow/core/common_runtime/gpu/gpu_device.cc:1510] Created device /job:localhost/replica:0/task:0/device:GPU:0 with 5420 MB memory:  -> device: 0, name: NVIDIA GeForce RTX 3070, pci bus id: 0000:2b:00.0, compute capability: 8.6\n"
     ]
    }
   ],
   "source": [
    "all_inputs = keras.Input(shape=(all_preds.shape[1],), name=\"all_preds\", dtype=\"float32\")\n",
    "x = layers.Dense(all_preds.shape[1], activation=\"relu\")(all_inputs) # same size as input\n",
    "output = layers.Dense(1, activation=\"tanh\")(x) \n",
    "\n",
    "model = keras.Model(all_inputs, output)\n",
    "model.compile(\n",
    "    optimizer=tf.keras.optimizers.Adam(),\n",
    "    loss= 'mse',# tf.keras.losses.MeanSquaredError(),\n",
    "    metrics=[tf.keras.metrics.MeanSquaredError(), tf.keras.metrics.RootMeanSquaredError()],\n",
    ")"
   ]
  },
  {
   "cell_type": "code",
   "execution_count": 7,
   "metadata": {},
   "outputs": [
    {
     "data": {
      "text/plain": [
       "(4568, 1142)"
      ]
     },
     "execution_count": 7,
     "metadata": {},
     "output_type": "execute_result"
    }
   ],
   "source": [
    "tr_ind, val_ind = train_test_split(list(range(len(all_preds))) ,test_size = test_size_percent, random_state = 23)\n",
    "len(tr_ind), len(val_ind)"
   ]
  },
  {
   "cell_type": "code",
   "execution_count": 8,
   "metadata": {},
   "outputs": [
    {
     "data": {
      "text/plain": [
       "((4568, 5), (1142, 5))"
      ]
     },
     "execution_count": 8,
     "metadata": {},
     "output_type": "execute_result"
    }
   ],
   "source": [
    "train_data = all_preds[tr_ind, :]\n",
    "val_data = all_preds[val_ind, :]\n",
    "train_data.shape, val_data.shape"
   ]
  },
  {
   "cell_type": "code",
   "execution_count": 9,
   "metadata": {},
   "outputs": [
    {
     "data": {
      "text/plain": [
       "((4568,), (1142,))"
      ]
     },
     "execution_count": 9,
     "metadata": {},
     "output_type": "execute_result"
    }
   ],
   "source": [
    "y_train = ruddit_df[score_key][tr_ind]\n",
    "y_val = ruddit_df[score_key][val_ind]\n",
    "y_train.shape, y_val.shape"
   ]
  },
  {
   "cell_type": "code",
   "execution_count": 10,
   "metadata": {},
   "outputs": [
    {
     "name": "stderr",
     "output_type": "stream",
     "text": [
      "2022-02-03 23:06:43.041102: I tensorflow/core/profiler/lib/profiler_session.cc:131] Profiler session initializing.\n",
      "2022-02-03 23:06:43.041134: I tensorflow/core/profiler/lib/profiler_session.cc:146] Profiler session started.\n",
      "2022-02-03 23:06:43.041159: I tensorflow/core/profiler/internal/gpu/cupti_tracer.cc:1614] Profiler found 1 GPUs\n",
      "2022-02-03 23:06:43.041620: W tensorflow/stream_executor/platform/default/dso_loader.cc:64] Could not load dynamic library 'libcupti.so.11.2'; dlerror: libcupti.so.11.2: cannot open shared object file: No such file or directory\n",
      "2022-02-03 23:06:43.103602: I tensorflow/core/profiler/lib/profiler_session.cc:164] Profiler session tear down.\n",
      "2022-02-03 23:06:43.103744: I tensorflow/core/profiler/internal/gpu/cupti_tracer.cc:1748] CUPTI activity buffer flushed\n",
      "2022-02-03 23:06:43.142734: I tensorflow/compiler/mlir/mlir_graph_optimization_pass.cc:185] None of the MLIR Optimization Passes are enabled (registered 2)\n"
     ]
    },
    {
     "name": "stdout",
     "output_type": "stream",
     "text": [
      "Epoch 1/50\n",
      "  2/143 [..............................] - ETA: 23s - loss: 0.2315 - mean_squared_error: 0.2315 - root_mean_squared_error: 0.4812 "
     ]
    },
    {
     "name": "stderr",
     "output_type": "stream",
     "text": [
      "2022-02-03 23:06:44.080661: I tensorflow/stream_executor/cuda/cuda_blas.cc:1760] TensorFloat-32 will be used for the matrix multiplication. This will only be logged once.\n",
      "2022-02-03 23:06:44.097743: I tensorflow/core/profiler/lib/profiler_session.cc:131] Profiler session initializing.\n",
      "2022-02-03 23:06:44.097782: I tensorflow/core/profiler/lib/profiler_session.cc:146] Profiler session started.\n",
      "2022-02-03 23:06:44.261674: I tensorflow/core/profiler/lib/profiler_session.cc:66] Profiler session collecting data.\n",
      "2022-02-03 23:06:44.262255: I tensorflow/core/profiler/internal/gpu/cupti_tracer.cc:1748] CUPTI activity buffer flushed\n",
      "2022-02-03 23:06:44.276061: I tensorflow/core/profiler/internal/gpu/cupti_collector.cc:673]  GpuTracer has collected 91 callback api events and 87 activity events. \n",
      "2022-02-03 23:06:44.277849: I tensorflow/core/profiler/lib/profiler_session.cc:164] Profiler session tear down.\n"
     ]
    },
    {
     "name": "stdout",
     "output_type": "stream",
     "text": [
      " 17/143 [==>...........................] - ETA: 2s - loss: 0.1997 - mean_squared_error: 0.1997 - root_mean_squared_error: 0.4469"
     ]
    },
    {
     "name": "stderr",
     "output_type": "stream",
     "text": [
      "2022-02-03 23:06:44.287729: I tensorflow/core/profiler/rpc/client/save_profile.cc:136] Creating directory: ./log/ensemble-nn-tuning/train/plugins/profile/2022_02_03_23_06_44\n",
      "\n",
      "2022-02-03 23:06:44.291233: I tensorflow/core/profiler/rpc/client/save_profile.cc:142] Dumped gzipped tool data for trace.json.gz to ./log/ensemble-nn-tuning/train/plugins/profile/2022_02_03_23_06_44/DESKTOP-KPOCLK7.trace.json.gz\n",
      "2022-02-03 23:06:44.300440: I tensorflow/core/profiler/rpc/client/save_profile.cc:136] Creating directory: ./log/ensemble-nn-tuning/train/plugins/profile/2022_02_03_23_06_44\n",
      "\n",
      "2022-02-03 23:06:44.302878: I tensorflow/core/profiler/rpc/client/save_profile.cc:142] Dumped gzipped tool data for memory_profile.json.gz to ./log/ensemble-nn-tuning/train/plugins/profile/2022_02_03_23_06_44/DESKTOP-KPOCLK7.memory_profile.json.gz\n",
      "2022-02-03 23:06:44.317387: I tensorflow/core/profiler/rpc/client/capture_profile.cc:251] Creating directory: ./log/ensemble-nn-tuning/train/plugins/profile/2022_02_03_23_06_44\n",
      "Dumped tool data for xplane.pb to ./log/ensemble-nn-tuning/train/plugins/profile/2022_02_03_23_06_44/DESKTOP-KPOCLK7.xplane.pb\n",
      "Dumped tool data for overview_page.pb to ./log/ensemble-nn-tuning/train/plugins/profile/2022_02_03_23_06_44/DESKTOP-KPOCLK7.overview_page.pb\n",
      "Dumped tool data for input_pipeline.pb to ./log/ensemble-nn-tuning/train/plugins/profile/2022_02_03_23_06_44/DESKTOP-KPOCLK7.input_pipeline.pb\n",
      "Dumped tool data for tensorflow_stats.pb to ./log/ensemble-nn-tuning/train/plugins/profile/2022_02_03_23_06_44/DESKTOP-KPOCLK7.tensorflow_stats.pb\n",
      "Dumped tool data for kernel_stats.pb to ./log/ensemble-nn-tuning/train/plugins/profile/2022_02_03_23_06_44/DESKTOP-KPOCLK7.kernel_stats.pb\n",
      "\n"
     ]
    },
    {
     "name": "stdout",
     "output_type": "stream",
     "text": [
      "143/143 [==============================] - 2s 11ms/step - loss: 0.1137 - mean_squared_error: 0.1137 - root_mean_squared_error: 0.3372 - val_loss: 0.0589 - val_mean_squared_error: 0.0589 - val_root_mean_squared_error: 0.2427\n",
      "Epoch 2/50\n",
      "143/143 [==============================] - 1s 9ms/step - loss: 0.0527 - mean_squared_error: 0.0527 - root_mean_squared_error: 0.2296 - val_loss: 0.0502 - val_mean_squared_error: 0.0502 - val_root_mean_squared_error: 0.2241\n",
      "Epoch 3/50\n",
      "143/143 [==============================] - 1s 9ms/step - loss: 0.0486 - mean_squared_error: 0.0486 - root_mean_squared_error: 0.2205 - val_loss: 0.0476 - val_mean_squared_error: 0.0476 - val_root_mean_squared_error: 0.2182\n",
      "Epoch 4/50\n",
      "143/143 [==============================] - 1s 9ms/step - loss: 0.0466 - mean_squared_error: 0.0466 - root_mean_squared_error: 0.2158 - val_loss: 0.0456 - val_mean_squared_error: 0.0456 - val_root_mean_squared_error: 0.2134\n",
      "Epoch 5/50\n",
      "143/143 [==============================] - 1s 9ms/step - loss: 0.0451 - mean_squared_error: 0.0451 - root_mean_squared_error: 0.2124 - val_loss: 0.0441 - val_mean_squared_error: 0.0441 - val_root_mean_squared_error: 0.2099\n",
      "Epoch 6/50\n",
      "143/143 [==============================] - 1s 9ms/step - loss: 0.0440 - mean_squared_error: 0.0440 - root_mean_squared_error: 0.2097 - val_loss: 0.0432 - val_mean_squared_error: 0.0432 - val_root_mean_squared_error: 0.2077\n",
      "Epoch 7/50\n",
      "143/143 [==============================] - 1s 10ms/step - loss: 0.0432 - mean_squared_error: 0.0432 - root_mean_squared_error: 0.2077 - val_loss: 0.0423 - val_mean_squared_error: 0.0423 - val_root_mean_squared_error: 0.2058\n",
      "Epoch 8/50\n",
      "143/143 [==============================] - 1s 10ms/step - loss: 0.0426 - mean_squared_error: 0.0426 - root_mean_squared_error: 0.2065 - val_loss: 0.0419 - val_mean_squared_error: 0.0419 - val_root_mean_squared_error: 0.2046\n",
      "Epoch 9/50\n",
      "143/143 [==============================] - 1s 10ms/step - loss: 0.0422 - mean_squared_error: 0.0422 - root_mean_squared_error: 0.2055 - val_loss: 0.0414 - val_mean_squared_error: 0.0414 - val_root_mean_squared_error: 0.2035\n",
      "Epoch 10/50\n",
      "143/143 [==============================] - 1s 10ms/step - loss: 0.0418 - mean_squared_error: 0.0418 - root_mean_squared_error: 0.2046 - val_loss: 0.0411 - val_mean_squared_error: 0.0411 - val_root_mean_squared_error: 0.2026\n",
      "Epoch 11/50\n",
      "143/143 [==============================] - 1s 10ms/step - loss: 0.0416 - mean_squared_error: 0.0416 - root_mean_squared_error: 0.2040 - val_loss: 0.0408 - val_mean_squared_error: 0.0408 - val_root_mean_squared_error: 0.2019\n",
      "Epoch 12/50\n",
      "143/143 [==============================] - 1s 10ms/step - loss: 0.0415 - mean_squared_error: 0.0415 - root_mean_squared_error: 0.2036 - val_loss: 0.0406 - val_mean_squared_error: 0.0406 - val_root_mean_squared_error: 0.2015\n",
      "Epoch 13/50\n",
      "143/143 [==============================] - 1s 10ms/step - loss: 0.0413 - mean_squared_error: 0.0413 - root_mean_squared_error: 0.2033 - val_loss: 0.0404 - val_mean_squared_error: 0.0404 - val_root_mean_squared_error: 0.2011\n",
      "Epoch 14/50\n",
      "143/143 [==============================] - 1s 10ms/step - loss: 0.0412 - mean_squared_error: 0.0412 - root_mean_squared_error: 0.2030 - val_loss: 0.0403 - val_mean_squared_error: 0.0403 - val_root_mean_squared_error: 0.2007\n",
      "Epoch 15/50\n",
      "143/143 [==============================] - 1s 10ms/step - loss: 0.0411 - mean_squared_error: 0.0411 - root_mean_squared_error: 0.2027 - val_loss: 0.0401 - val_mean_squared_error: 0.0401 - val_root_mean_squared_error: 0.2003\n",
      "Epoch 16/50\n",
      "143/143 [==============================] - 1s 10ms/step - loss: 0.0410 - mean_squared_error: 0.0410 - root_mean_squared_error: 0.2026 - val_loss: 0.0401 - val_mean_squared_error: 0.0401 - val_root_mean_squared_error: 0.2003\n",
      "Epoch 17/50\n",
      "143/143 [==============================] - 1s 10ms/step - loss: 0.0410 - mean_squared_error: 0.0410 - root_mean_squared_error: 0.2024 - val_loss: 0.0399 - val_mean_squared_error: 0.0399 - val_root_mean_squared_error: 0.1999\n",
      "Epoch 18/50\n",
      "143/143 [==============================] - 1s 10ms/step - loss: 0.0409 - mean_squared_error: 0.0409 - root_mean_squared_error: 0.2023 - val_loss: 0.0400 - val_mean_squared_error: 0.0400 - val_root_mean_squared_error: 0.2000\n",
      "Epoch 19/50\n",
      "143/143 [==============================] - 1s 10ms/step - loss: 0.0409 - mean_squared_error: 0.0409 - root_mean_squared_error: 0.2022 - val_loss: 0.0398 - val_mean_squared_error: 0.0398 - val_root_mean_squared_error: 0.1995\n",
      "Epoch 20/50\n",
      "143/143 [==============================] - 1s 10ms/step - loss: 0.0408 - mean_squared_error: 0.0408 - root_mean_squared_error: 0.2019 - val_loss: 0.0399 - val_mean_squared_error: 0.0399 - val_root_mean_squared_error: 0.1997\n",
      "Epoch 21/50\n",
      "143/143 [==============================] - 1s 10ms/step - loss: 0.0408 - mean_squared_error: 0.0408 - root_mean_squared_error: 0.2020 - val_loss: 0.0397 - val_mean_squared_error: 0.0397 - val_root_mean_squared_error: 0.1993\n",
      "Epoch 22/50\n",
      "143/143 [==============================] - 1s 10ms/step - loss: 0.0407 - mean_squared_error: 0.0407 - root_mean_squared_error: 0.2018 - val_loss: 0.0398 - val_mean_squared_error: 0.0398 - val_root_mean_squared_error: 0.1996\n",
      "Epoch 23/50\n",
      "143/143 [==============================] - 2s 11ms/step - loss: 0.0407 - mean_squared_error: 0.0407 - root_mean_squared_error: 0.2018 - val_loss: 0.0397 - val_mean_squared_error: 0.0397 - val_root_mean_squared_error: 0.1994\n",
      "Epoch 24/50\n",
      "143/143 [==============================] - 1s 10ms/step - loss: 0.0407 - mean_squared_error: 0.0407 - root_mean_squared_error: 0.2018 - val_loss: 0.0396 - val_mean_squared_error: 0.0396 - val_root_mean_squared_error: 0.1990\n",
      "Epoch 25/50\n",
      "143/143 [==============================] - 1s 10ms/step - loss: 0.0406 - mean_squared_error: 0.0406 - root_mean_squared_error: 0.2016 - val_loss: 0.0397 - val_mean_squared_error: 0.0397 - val_root_mean_squared_error: 0.1991\n",
      "Epoch 26/50\n",
      "143/143 [==============================] - 1s 10ms/step - loss: 0.0407 - mean_squared_error: 0.0407 - root_mean_squared_error: 0.2016 - val_loss: 0.0395 - val_mean_squared_error: 0.0395 - val_root_mean_squared_error: 0.1987\n",
      "Epoch 27/50\n",
      "143/143 [==============================] - 2s 11ms/step - loss: 0.0407 - mean_squared_error: 0.0407 - root_mean_squared_error: 0.2017 - val_loss: 0.0394 - val_mean_squared_error: 0.0394 - val_root_mean_squared_error: 0.1985\n",
      "Epoch 28/50\n",
      "143/143 [==============================] - 2s 11ms/step - loss: 0.0406 - mean_squared_error: 0.0406 - root_mean_squared_error: 0.2014 - val_loss: 0.0395 - val_mean_squared_error: 0.0395 - val_root_mean_squared_error: 0.1987\n",
      "Epoch 29/50\n",
      "143/143 [==============================] - 2s 11ms/step - loss: 0.0406 - mean_squared_error: 0.0406 - root_mean_squared_error: 0.2014 - val_loss: 0.0394 - val_mean_squared_error: 0.0394 - val_root_mean_squared_error: 0.1985\n",
      "Epoch 30/50\n",
      "143/143 [==============================] - 1s 10ms/step - loss: 0.0406 - mean_squared_error: 0.0406 - root_mean_squared_error: 0.2014 - val_loss: 0.0393 - val_mean_squared_error: 0.0393 - val_root_mean_squared_error: 0.1983\n",
      "Epoch 31/50\n",
      "143/143 [==============================] - 1s 9ms/step - loss: 0.0405 - mean_squared_error: 0.0405 - root_mean_squared_error: 0.2013 - val_loss: 0.0394 - val_mean_squared_error: 0.0394 - val_root_mean_squared_error: 0.1984\n",
      "Epoch 32/50\n",
      "143/143 [==============================] - 1s 9ms/step - loss: 0.0405 - mean_squared_error: 0.0405 - root_mean_squared_error: 0.2013 - val_loss: 0.0393 - val_mean_squared_error: 0.0393 - val_root_mean_squared_error: 0.1982\n",
      "Epoch 33/50\n",
      "143/143 [==============================] - 1s 9ms/step - loss: 0.0405 - mean_squared_error: 0.0405 - root_mean_squared_error: 0.2012 - val_loss: 0.0394 - val_mean_squared_error: 0.0394 - val_root_mean_squared_error: 0.1984\n",
      "Epoch 34/50\n",
      "143/143 [==============================] - 1s 9ms/step - loss: 0.0405 - mean_squared_error: 0.0405 - root_mean_squared_error: 0.2012 - val_loss: 0.0392 - val_mean_squared_error: 0.0392 - val_root_mean_squared_error: 0.1980\n",
      "Epoch 35/50\n",
      "143/143 [==============================] - 1s 9ms/step - loss: 0.0404 - mean_squared_error: 0.0404 - root_mean_squared_error: 0.2011 - val_loss: 0.0393 - val_mean_squared_error: 0.0393 - val_root_mean_squared_error: 0.1983\n",
      "Epoch 36/50\n",
      "143/143 [==============================] - 1s 9ms/step - loss: 0.0405 - mean_squared_error: 0.0405 - root_mean_squared_error: 0.2012 - val_loss: 0.0393 - val_mean_squared_error: 0.0393 - val_root_mean_squared_error: 0.1982\n",
      "Epoch 37/50\n",
      "143/143 [==============================] - 1s 9ms/step - loss: 0.0404 - mean_squared_error: 0.0404 - root_mean_squared_error: 0.2011 - val_loss: 0.0393 - val_mean_squared_error: 0.0393 - val_root_mean_squared_error: 0.1983\n",
      "Epoch 38/50\n",
      "143/143 [==============================] - 1s 9ms/step - loss: 0.0405 - mean_squared_error: 0.0405 - root_mean_squared_error: 0.2012 - val_loss: 0.0392 - val_mean_squared_error: 0.0392 - val_root_mean_squared_error: 0.1980\n",
      "Epoch 39/50\n",
      "143/143 [==============================] - 1s 9ms/step - loss: 0.0405 - mean_squared_error: 0.0405 - root_mean_squared_error: 0.2013 - val_loss: 0.0392 - val_mean_squared_error: 0.0392 - val_root_mean_squared_error: 0.1980\n",
      "Epoch 40/50\n",
      "143/143 [==============================] - 1s 9ms/step - loss: 0.0404 - mean_squared_error: 0.0404 - root_mean_squared_error: 0.2011 - val_loss: 0.0391 - val_mean_squared_error: 0.0391 - val_root_mean_squared_error: 0.1978\n",
      "Epoch 41/50\n",
      "143/143 [==============================] - 1s 9ms/step - loss: 0.0405 - mean_squared_error: 0.0405 - root_mean_squared_error: 0.2012 - val_loss: 0.0391 - val_mean_squared_error: 0.0391 - val_root_mean_squared_error: 0.1978\n",
      "Epoch 42/50\n",
      "143/143 [==============================] - 1s 10ms/step - loss: 0.0404 - mean_squared_error: 0.0404 - root_mean_squared_error: 0.2011 - val_loss: 0.0391 - val_mean_squared_error: 0.0391 - val_root_mean_squared_error: 0.1978\n",
      "Epoch 43/50\n",
      "143/143 [==============================] - 1s 9ms/step - loss: 0.0404 - mean_squared_error: 0.0404 - root_mean_squared_error: 0.2010 - val_loss: 0.0393 - val_mean_squared_error: 0.0393 - val_root_mean_squared_error: 0.1983\n",
      "Epoch 44/50\n",
      "143/143 [==============================] - 1s 9ms/step - loss: 0.0404 - mean_squared_error: 0.0404 - root_mean_squared_error: 0.2011 - val_loss: 0.0391 - val_mean_squared_error: 0.0391 - val_root_mean_squared_error: 0.1977\n",
      "Epoch 45/50\n",
      "143/143 [==============================] - 1s 9ms/step - loss: 0.0404 - mean_squared_error: 0.0404 - root_mean_squared_error: 0.2010 - val_loss: 0.0391 - val_mean_squared_error: 0.0391 - val_root_mean_squared_error: 0.1977\n",
      "Epoch 46/50\n",
      "143/143 [==============================] - 1s 9ms/step - loss: 0.0404 - mean_squared_error: 0.0404 - root_mean_squared_error: 0.2011 - val_loss: 0.0391 - val_mean_squared_error: 0.0391 - val_root_mean_squared_error: 0.1977\n",
      "Epoch 47/50\n",
      "143/143 [==============================] - 1s 9ms/step - loss: 0.0404 - mean_squared_error: 0.0404 - root_mean_squared_error: 0.2010 - val_loss: 0.0392 - val_mean_squared_error: 0.0392 - val_root_mean_squared_error: 0.1979\n",
      "Epoch 48/50\n",
      "143/143 [==============================] - 1s 9ms/step - loss: 0.0404 - mean_squared_error: 0.0404 - root_mean_squared_error: 0.2011 - val_loss: 0.0391 - val_mean_squared_error: 0.0391 - val_root_mean_squared_error: 0.1978\n",
      "Epoch 49/50\n",
      "143/143 [==============================] - 1s 9ms/step - loss: 0.0404 - mean_squared_error: 0.0404 - root_mean_squared_error: 0.2009 - val_loss: 0.0391 - val_mean_squared_error: 0.0391 - val_root_mean_squared_error: 0.1979\n",
      "Epoch 50/50\n",
      "143/143 [==============================] - 1s 9ms/step - loss: 0.0404 - mean_squared_error: 0.0404 - root_mean_squared_error: 0.2011 - val_loss: 0.0391 - val_mean_squared_error: 0.0391 - val_root_mean_squared_error: 0.1976\n"
     ]
    },
    {
     "data": {
      "text/plain": [
       "<keras.callbacks.History at 0x7f0f3032ec40>"
      ]
     },
     "execution_count": 10,
     "metadata": {},
     "output_type": "execute_result"
    }
   ],
   "source": [
    "n_epochs = 50\n",
    "\n",
    "tensorboard_callback = tf.keras.callbacks.TensorBoard(log_dir=log_dir, histogram_freq=1, update_freq=1)\n",
    "\n",
    "model.fit(train_data, y_train, epochs=n_epochs, validation_data=(val_data, y_val), callbacks=[tensorboard_callback])"
   ]
  },
  {
   "cell_type": "code",
   "execution_count": 14,
   "metadata": {},
   "outputs": [
    {
     "name": "stderr",
     "output_type": "stream",
     "text": [
      "2022-02-03 23:15:09.715616: W tensorflow/python/util/util.cc:348] Sets are not currently considered sequences, but this may change in the future, so consider avoiding using them.\n"
     ]
    },
    {
     "name": "stdout",
     "output_type": "stream",
     "text": [
      "INFO:tensorflow:Assets written to: ./output/ensemble-nn-tuning/final_model/assets\n"
     ]
    }
   ],
   "source": [
    "model.save(final_train_filepath)"
   ]
  }
 ],
 "metadata": {
  "interpreter": {
   "hash": "a39880321af88786c208952b03056ebcfbeddf69d7aecdb8c75f75bacd597582"
  },
  "kernelspec": {
   "display_name": "Python 3.9.9 64-bit ('TOX_TF': conda)",
   "language": "python",
   "name": "python3"
  },
  "language_info": {
   "codemirror_mode": {
    "name": "ipython",
    "version": 3
   },
   "file_extension": ".py",
   "mimetype": "text/x-python",
   "name": "python",
   "nbconvert_exporter": "python",
   "pygments_lexer": "ipython3",
   "version": "3.9.9"
  },
  "orig_nbformat": 4
 },
 "nbformat": 4,
 "nbformat_minor": 2
}
