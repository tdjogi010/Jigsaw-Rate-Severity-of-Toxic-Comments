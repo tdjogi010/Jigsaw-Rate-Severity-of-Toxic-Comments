{
 "cells": [
  {
   "cell_type": "code",
   "execution_count": 1,
   "metadata": {},
   "outputs": [],
   "source": [
    "import numpy as np\n",
    "import pandas as pd"
   ]
  },
  {
   "cell_type": "code",
   "execution_count": 8,
   "metadata": {},
   "outputs": [],
   "source": [
    "## constants ##\n",
    "models_preds_paths = [\"./output/scores/val_scores_2-bilstm_ruddit-only.csv\", # preds range is [-1, 1]\n",
    "                     \"./output/scores/val_scores_bert-1-BiLstm_2-epoch.csv\",# [0, 3/4/5]\n",
    "                     \"./output/scores/val_scores_bert-2-BiLstm_2-epoch.csv\",# [0, 3/4/5]\n",
    "                      \"./output/scores/val_scores_original_pretrained_only.csv\", # [0, 6] # similar as above\n",
    "                    \"./output/scores/val_scores_unbiased_pretrained_only.csv\", # [0, 7]# similar as above\n",
    "                    \"./output/scores/val_scores_multilingual_pretrained_only.csv\", # [0, 7] # similar as above\n",
    "                     ]\n",
    "              \n",
    "less_toxic_key = \"less_toxic\"\n",
    "more_toxic_key = \"more_toxic\""
   ]
  },
  {
   "cell_type": "code",
   "execution_count": 3,
   "metadata": {},
   "outputs": [
    {
     "name": "stdout",
     "output_type": "stream",
     "text": [
      "(30108, 2)\n",
      "(30108, 2)\n",
      "(30108, 2)\n",
      "(30108, 2)\n",
      "(30108, 2)\n",
      "(30108, 2)\n"
     ]
    }
   ],
   "source": [
    "model_preds_df_list = []\n",
    "for path in models_preds_paths:\n",
    "    model_preds_df_list.append(pd.read_csv(path))\n",
    "    print(model_preds_df_list[-1].shape)"
   ]
  },
  {
   "cell_type": "code",
   "execution_count": 7,
   "metadata": {},
   "outputs": [
    {
     "data": {
      "text/plain": [
       "(       worker                                         less_toxic  \\\n",
       " 0         313            This article sucks \\n\\nwoo woo wooooooo   \n",
       " 1         188  \"And yes, people should recognize that but the...   \n",
       " 2          82   Western Media?\\n\\nYup, because every crime in...   \n",
       " 3         347  And you removed it! You numbskull! I don't car...   \n",
       " 4         539   smelly vagina \\n\\nBluerasberry why don't you ...   \n",
       " ...       ...                                                ...   \n",
       " 30103     461  I'm sorry. I'm not an admin. I will give you t...   \n",
       " 30104     527  I'm sorry. I'm not an admin. I will give you t...   \n",
       " 30105     352  wow...\\nare you out of your mind, how was my e...   \n",
       " 30106     311  wow...\\nare you out of your mind, how was my e...   \n",
       " 30107      54  wow...\\nare you out of your mind, how was my e...   \n",
       " \n",
       "                                               more_toxic  \n",
       " 0      WHAT!!!!!!!!?!?!!?!?!!?!?!?!?!!!!!!!!!!!!!!!!!...  \n",
       " 1       Daphne Guinness \\n\\nTop of the mornin' my fav...  \n",
       " 2      \"Atom you don't believe actual photos of mastu...  \n",
       " 3      You seem to have sand in your vagina.\\n\\nMight...  \n",
       " 4               hey \\n\\nway to support nazis, you racist  \n",
       " ...                                                  ...  \n",
       " 30103                             get out my large penis  \n",
       " 30104                             get out my large penis  \n",
       " 30105                       Piss off you slant eyed-gook  \n",
       " 30106                       Piss off you slant eyed-gook  \n",
       " 30107                       Piss off you slant eyed-gook  \n",
       " \n",
       " [30108 rows x 3 columns],\n",
       " (30108, 3))"
      ]
     },
     "execution_count": 7,
     "metadata": {},
     "output_type": "execute_result"
    }
   ],
   "source": [
    "val_df = pd.read_csv(\"./train/validation_data.csv\")\n",
    "val_df, val_df.shape"
   ]
  },
  {
   "cell_type": "markdown",
   "metadata": {},
   "source": [
    "## Bert + 2 BiLSTM Analysis"
   ]
  },
  {
   "cell_type": "code",
   "execution_count": 5,
   "metadata": {},
   "outputs": [
    {
     "data": {
      "text/plain": [
       "(       less_toxic  more_toxic\n",
       " 0        1.143788    0.367601\n",
       " 1        0.278404    1.492621\n",
       " 2        0.989652    1.016708\n",
       " 3        0.843104    3.894335\n",
       " 4        2.330885    1.460800\n",
       " ...           ...         ...\n",
       " 30103    1.282766    3.454913\n",
       " 30104    1.282766    3.454913\n",
       " 30105    0.307757    1.150488\n",
       " 30106    0.307757    1.150488\n",
       " 30107    0.307757    1.150488\n",
       " \n",
       " [30108 rows x 2 columns],\n",
       " (30108, 2))"
      ]
     },
     "execution_count": 5,
     "metadata": {},
     "output_type": "execute_result"
    }
   ],
   "source": [
    "bert_2_biLSTM = model_preds_df_list[2]\n",
    "bert_2_biLSTM, bert_2_biLSTM.shape"
   ]
  },
  {
   "cell_type": "code",
   "execution_count": 11,
   "metadata": {},
   "outputs": [
    {
     "data": {
      "text/plain": [
       "((20711, 3), (9397, 3))"
      ]
     },
     "execution_count": 11,
     "metadata": {},
     "output_type": "execute_result"
    }
   ],
   "source": [
    "bert_2_bilstm_right_preds = val_df[bert_2_biLSTM[more_toxic_key] > bert_2_biLSTM[less_toxic_key]]\n",
    "bert_2_bilstm_wrong_preds = val_df[bert_2_biLSTM[more_toxic_key] <= bert_2_biLSTM[less_toxic_key]]\n",
    "bert_2_bilstm_right_preds.shape, bert_2_bilstm_wrong_preds.shape ## almost 66% accuracy"
   ]
  },
  {
   "cell_type": "code",
   "execution_count": 16,
   "metadata": {},
   "outputs": [
    {
     "data": {
      "text/html": [
       "<div>\n",
       "<style scoped>\n",
       "    .dataframe tbody tr th:only-of-type {\n",
       "        vertical-align: middle;\n",
       "    }\n",
       "\n",
       "    .dataframe tbody tr th {\n",
       "        vertical-align: top;\n",
       "    }\n",
       "\n",
       "    .dataframe thead th {\n",
       "        text-align: right;\n",
       "    }\n",
       "</style>\n",
       "<table border=\"1\" class=\"dataframe\">\n",
       "  <thead>\n",
       "    <tr style=\"text-align: right;\">\n",
       "      <th></th>\n",
       "      <th>worker</th>\n",
       "      <th>less_toxic</th>\n",
       "      <th>more_toxic</th>\n",
       "    </tr>\n",
       "  </thead>\n",
       "  <tbody>\n",
       "    <tr>\n",
       "      <th>1</th>\n",
       "      <td>188</td>\n",
       "      <td>\"And yes, people should recognize that but they usually don't. One of the first objections you hear directed at someone who says he favors free markets is invariably \"\"There's no such thing as a free market.\"\" Ridiculously trivial. \"</td>\n",
       "      <td>Daphne Guinness \\n\\nTop of the mornin' my favourite Alien Life Form. I'm sorry, I can't marry you because you are a poor commoner so, therefore, unimportant. Can I have my dresses back. I hope your fat Oirish arse hasn't stretched them.</td>\n",
       "    </tr>\n",
       "    <tr>\n",
       "      <th>2</th>\n",
       "      <td>82</td>\n",
       "      <td>Western Media?\\n\\nYup, because every crime in the entire world is caused by the west.  Racists.</td>\n",
       "      <td>\"Atom you don't believe actual photos of masturbation is sexually explicit photos. I am sorry to say they are sexually explicit and so you said yourself that the disclaimer is used for that purpose. Also, Wikipedia itself is targeted for minors. In addition, you say that Wikipedia does not have child pornography photos. I do believe there is a photo of a real prepubescent child nude (not an illustration) that is in bondage with the title \"\"Virgin Killer\"\". Which recently Wikipedia archived so no more comments could be made. 211.220.23.15  \\n\\n\"</td>\n",
       "    </tr>\n",
       "    <tr>\n",
       "      <th>3</th>\n",
       "      <td>347</td>\n",
       "      <td>And you removed it! You numbskull! I don't care what you say anymore, this is my life! Go ahead with your own life, leave me alone! —</td>\n",
       "      <td>You seem to have sand in your vagina.\\n\\nMight want to wash that stinking hole out, bitch.</td>\n",
       "    </tr>\n",
       "    <tr>\n",
       "      <th>6</th>\n",
       "      <td>52</td>\n",
       "      <td>\"\\n\\nHey Dude\\nWell, I guess you know that TREY and I got blocked for our \"\"behaviour\"\" when dealing with Kd lvr and Kdkatpir2 and that those two are no longer sockpuppets nor meatpuppets.  Which adds to my confusion.  Oh well.  TREY has quit Wikipedia and I no longer helping, reverting, or reporting anyone.  I am going to let them handle it.  Hope you have a good day.... (VT) \"</td>\n",
       "      <td>gender neutral \\n\\nwhy is the page called henchmen there are females like Lucy saxon in this page shouldnt it have a gender neutral name like sub-villain</td>\n",
       "    </tr>\n",
       "    <tr>\n",
       "      <th>7</th>\n",
       "      <td>672</td>\n",
       "      <td>Also my remarks are indeed a criticism of you and your behavior in relation to the dreamhost talkpage but if you are indeed a NPOV then admin you should perhaps instead of interpreting them as a personal attack read them as just criticism and take steps to improve your conduct.</td>\n",
       "      <td>Why not head on over to WP:RFA and try your hand at getting a mop for all your bullshit?  Just think!  Maybe one day your useless editing and countless wasted hours/days/weeks here will get you a silly little icon and an excuse to waste even more time. 67.176.98.94</td>\n",
       "    </tr>\n",
       "    <tr>\n",
       "      <th>8</th>\n",
       "      <td>52</td>\n",
       "      <td>\" July 2012 (UTC)\\n\\nI\"\"M ABUSING PEOPLE!!!!!?????\\nYour the one ranting on about how it doesn't exist, the Battle for Australia DID happen it was very similiar to the Battle of Britain, so are you saying the Battle of Britain didn't happen? Of course not, your probably British and will do anything to put down the Aussies, even if it means tampering with our history.\\nDon't tell me to read a book on that battle, I know more about it than you do obviously. The Battle for Australia is not historiographcal, ask any veteran about what they thought during the KOKODA CAMPAIGN, and they believed they were \"\"fighting to save Australia\"\". You just hate this country, and your anti-Australian approach shines right through, F*ck you!!  06:41, 4\"</td>\n",
       "      <td>You are such a useless bitch! I mean do you have a life or friends? Because all you do is sit at your computer on wikipeida. You are a loser and I would watch out because you will be blocked soon!\\n{Talkback|Tdawg4701}</td>\n",
       "    </tr>\n",
       "    <tr>\n",
       "      <th>9</th>\n",
       "      <td>539</td>\n",
       "      <td>It's just simple Beefcake... \\n\\nThe recent edit I made to Star Trek: Of Gods and Men was constructive, the film really did suck. I mean Bill Shatner's last record was bad but this... Astral please do not abuse Wikipedia and vandalise the article Star Trek: Of Gods and Men again or you will be banned. Beffcake. BEEFCAKE!</td>\n",
       "      <td>Hi \\n\\nI Hate you. ^_^</td>\n",
       "    </tr>\n",
       "    <tr>\n",
       "      <th>10</th>\n",
       "      <td>553</td>\n",
       "      <td>You are the one who is trolling \\n\\nI was not trolling. I went to see the user page of this person who kept vandalising my writings in Dog to see what his writings were. His user name is EGordon. It turns out, his writings are generally incorrect and far more in need of citations than mine. So I asked him for citations where they were needed, and here merely weasled out of it by deleting the {fact} text, without showing the citations. He says half the land in Australia is Crown land and it is mainly used as airports and utilities. What nonsense, half the land in Australia is used for airports? How can you allow such spench to remain in Wikipedia? Now look what you do. He was not only asking me for citations in Dog where they are not needed, he was erasing whole 3-paragraph text that I had spent hours creating. Then YOU came back and erased them again, which I believe is also vandalism,and quite insulting. Nobody told me WHY I needed citations, neither you nor EGordon are even qualified to ask me for citations since you are not veterinarians. You and he are guilty of vandalising another writers perfectly sound writings, and you should both be banned of your editorial priv's. I am going to go over your heads and have both of you removed now. How DARE you block me? How DARE YOU? This is utterly absurd.\\n\\nIf anybody is guilty of trolling it is you, why are you here on my page? At least EGordon stopped stalking me, but you haven't. What do you do, wake up in the morning, turn on your computer, and go right to my user page to check up on me. You are not qualified to edit my writings.</td>\n",
       "      <td>yall are fags who like it up the ass hard</td>\n",
       "    </tr>\n",
       "    <tr>\n",
       "      <th>11</th>\n",
       "      <td>614</td>\n",
       "      <td>\"\\n\\n Tournament winnings \\n\"\"As of 2005, his total live tournament winnings exceed $2,740,000.\"\"\\n\\nIs this line really necessary considering the first paragraph mentions the $2.5mil and the $200,000.  Useless sentence, I deleted it.\"</td>\n",
       "      <td>Fuck wiki\\n\\nFuck this piece of shit called Wikipedia, it bullshit of misinformation and Zionist propaganda! 188.23.179.183</td>\n",
       "    </tr>\n",
       "    <tr>\n",
       "      <th>12</th>\n",
       "      <td>144</td>\n",
       "      <td>If he doesn't follow through with that, I certainly will. If you do not feel strongly about your decision, I urge you to reconsider both the context and the actual edits in question. What you are doing here is sending a message to Factomancer and users like Factomancer that will only perpetuate this petty series of events that has developed over the last few weeks. They will see this as a success in their WP:BATTLE and proof that if they report everything that can possibly be construed as a violation to AN/I and AE, some shit will eventually stick. I think you mentioned something about gaming the system? Indeed.</td>\n",
       "      <td>The DoS was my entire Internet connection shutting down momentarily just after posting. You're an asshole. Ban me. You're still an asshole. You know I'm right. But you'll fight tooth and nail for your own opinion despite a third party source that indicates the validity of the source material. May all your edits be attacked by people as resolutely brick-headed as you. 71.102.18.173</td>\n",
       "    </tr>\n",
       "  </tbody>\n",
       "</table>\n",
       "</div>"
      ],
      "text/plain": [
       "    worker  \\\n",
       "1      188   \n",
       "2       82   \n",
       "3      347   \n",
       "6       52   \n",
       "7      672   \n",
       "8       52   \n",
       "9      539   \n",
       "10     553   \n",
       "11     614   \n",
       "12     144   \n",
       "\n",
       "                                                                                                                                                                                                                                                                                                                                                                                                                                                                                                                                                                                                                                                                                                                                                                                                                                                                                                                                                                                                                                                                                                                                                                                                                                                                                                                                                                                                                                                                                                                                                                                                                                                                 less_toxic  \\\n",
       "1                                                                                                                                                                                                                                                                                                                                                                                                                                                                                                                                                                                                                                                                                                                                                                                                                                                                                                                                                                                                                                                                                                                                                                                                                                                                                                                                                                                                                                 \"And yes, people should recognize that but they usually don't. One of the first objections you hear directed at someone who says he favors free markets is invariably \"\"There's no such thing as a free market.\"\" Ridiculously trivial. \"   \n",
       "2                                                                                                                                                                                                                                                                                                                                                                                                                                                                                                                                                                                                                                                                                                                                                                                                                                                                                                                                                                                                                                                                                                                                                                                                                                                                                                                                                                                                                                                                                                                                                                        Western Media?\\n\\nYup, because every crime in the entire world is caused by the west.  Racists.      \n",
       "3                                                                                                                                                                                                                                                                                                                                                                                                                                                                                                                                                                                                                                                                                                                                                                                                                                                                                                                                                                                                                                                                                                                                                                                                                                                                                                                                                                                                                                                                                                                                    And you removed it! You numbskull! I don't care what you say anymore, this is my life! Go ahead with your own life, leave me alone! —    \n",
       "6                                                                                                                                                                                                                                                                                                                                                                                                                                                                                                                                                                                                                                                                                                                                                                                                                                                                                                                                                                                                                                                                                                                                                                                                                                                                             \"\\n\\nHey Dude\\nWell, I guess you know that TREY and I got blocked for our \"\"behaviour\"\" when dealing with Kd lvr and Kdkatpir2 and that those two are no longer sockpuppets nor meatpuppets.  Which adds to my confusion.  Oh well.  TREY has quit Wikipedia and I no longer helping, reverting, or reporting anyone.  I am going to let them handle it.  Hope you have a good day.... (VT) \"   \n",
       "7                                                                                                                                                                                                                                                                                                                                                                                                                                                                                                                                                                                                                                                                                                                                                                                                                                                                                                                                                                                                                                                                                                                                                                                                                                                                                                                                                                                  Also my remarks are indeed a criticism of you and your behavior in relation to the dreamhost talkpage but if you are indeed a NPOV then admin you should perhaps instead of interpreting them as a personal attack read them as just criticism and take steps to improve your conduct.     \n",
       "8                                                                                                                                                                                                                                                                                                                                                                                                                                                                                                                                                                                                                                                                                                                                                                                                                                                                                                   \" July 2012 (UTC)\\n\\nI\"\"M ABUSING PEOPLE!!!!!?????\\nYour the one ranting on about how it doesn't exist, the Battle for Australia DID happen it was very similiar to the Battle of Britain, so are you saying the Battle of Britain didn't happen? Of course not, your probably British and will do anything to put down the Aussies, even if it means tampering with our history.\\nDon't tell me to read a book on that battle, I know more about it than you do obviously. The Battle for Australia is not historiographcal, ask any veteran about what they thought during the KOKODA CAMPAIGN, and they believed they were \"\"fighting to save Australia\"\". You just hate this country, and your anti-Australian approach shines right through, F*ck you!!  06:41, 4\"   \n",
       "9                                                                                                                                                                                                                                                                                                                                                                                                                                                                                                                                                                                                                                                                                                                                                                                                                                                                                                                                                                                                                                                                                                                                                                                                                                                                                                                                        It's just simple Beefcake... \\n\\nThe recent edit I made to Star Trek: Of Gods and Men was constructive, the film really did suck. I mean Bill Shatner's last record was bad but this... Astral please do not abuse Wikipedia and vandalise the article Star Trek: Of Gods and Men again or you will be banned. Beffcake. BEEFCAKE!   \n",
       "10   You are the one who is trolling \\n\\nI was not trolling. I went to see the user page of this person who kept vandalising my writings in Dog to see what his writings were. His user name is EGordon. It turns out, his writings are generally incorrect and far more in need of citations than mine. So I asked him for citations where they were needed, and here merely weasled out of it by deleting the {fact} text, without showing the citations. He says half the land in Australia is Crown land and it is mainly used as airports and utilities. What nonsense, half the land in Australia is used for airports? How can you allow such spench to remain in Wikipedia? Now look what you do. He was not only asking me for citations in Dog where they are not needed, he was erasing whole 3-paragraph text that I had spent hours creating. Then YOU came back and erased them again, which I believe is also vandalism,and quite insulting. Nobody told me WHY I needed citations, neither you nor EGordon are even qualified to ask me for citations since you are not veterinarians. You and he are guilty of vandalising another writers perfectly sound writings, and you should both be banned of your editorial priv's. I am going to go over your heads and have both of you removed now. How DARE you block me? How DARE YOU? This is utterly absurd.\\n\\nIf anybody is guilty of trolling it is you, why are you here on my page? At least EGordon stopped stalking me, but you haven't. What do you do, wake up in the morning, turn on your computer, and go right to my user page to check up on me. You are not qualified to edit my writings.    \n",
       "11                                                                                                                                                                                                                                                                                                                                                                                                                                                                                                                                                                                                                                                                                                                                                                                                                                                                                                                                                                                                                                                                                                                                                                                                                                                                                                                                                                                                                              \"\\n\\n Tournament winnings \\n\"\"As of 2005, his total live tournament winnings exceed $2,740,000.\"\"\\n\\nIs this line really necessary considering the first paragraph mentions the $2.5mil and the $200,000.  Useless sentence, I deleted it.\"   \n",
       "12                                                                                                                                                                                                                                                                                                                                                                                                                                                                                                                                                                                                                                                                                                                                                                                                                                                                                                                                                                                                                           If he doesn't follow through with that, I certainly will. If you do not feel strongly about your decision, I urge you to reconsider both the context and the actual edits in question. What you are doing here is sending a message to Factomancer and users like Factomancer that will only perpetuate this petty series of events that has developed over the last few weeks. They will see this as a success in their WP:BATTLE and proof that if they report everything that can possibly be construed as a violation to AN/I and AE, some shit will eventually stick. I think you mentioned something about gaming the system? Indeed.      \n",
       "\n",
       "                                                                                                                                                                                                                                                                                                                                                                                                                                                                                                                                                                more_toxic  \n",
       "1                                                                                                                                                                                                                                                                                                                             Daphne Guinness \\n\\nTop of the mornin' my favourite Alien Life Form. I'm sorry, I can't marry you because you are a poor commoner so, therefore, unimportant. Can I have my dresses back. I hope your fat Oirish arse hasn't stretched them.  \n",
       "2   \"Atom you don't believe actual photos of masturbation is sexually explicit photos. I am sorry to say they are sexually explicit and so you said yourself that the disclaimer is used for that purpose. Also, Wikipedia itself is targeted for minors. In addition, you say that Wikipedia does not have child pornography photos. I do believe there is a photo of a real prepubescent child nude (not an illustration) that is in bondage with the title \"\"Virgin Killer\"\". Which recently Wikipedia archived so no more comments could be made. 211.220.23.15  \\n\\n\"  \n",
       "3                                                                                                                                                                                                                                                                                                                                                                                                                                                                               You seem to have sand in your vagina.\\n\\nMight want to wash that stinking hole out, bitch.  \n",
       "6                                                                                                                                                                                                                                                                                                                                                                                                              gender neutral \\n\\nwhy is the page called henchmen there are females like Lucy saxon in this page shouldnt it have a gender neutral name like sub-villain    \n",
       "7                                                                                                                                                                                                                                                                                              Why not head on over to WP:RFA and try your hand at getting a mop for all your bullshit?  Just think!  Maybe one day your useless editing and countless wasted hours/days/weeks here will get you a silly little icon and an excuse to waste even more time. 67.176.98.94    \n",
       "8                                                                                                                                                                                                                                                                                                                                               You are such a useless bitch! I mean do you have a life or friends? Because all you do is sit at your computer on wikipeida. You are a loser and I would watch out because you will be blocked soon!\\n{Talkback|Tdawg4701}  \n",
       "9                                                                                                                                                                                                                                                                                                                                                                                                                                                                                                                                                   Hi \\n\\nI Hate you. ^_^  \n",
       "10                                                                                                                                                                                                                                                                                                                                                                                                                                                                                                                               yall are fags who like it up the ass hard  \n",
       "11                                                                                                                                                                                                                                                                                                                                                                                                                                           Fuck wiki\\n\\nFuck this piece of shit called Wikipedia, it bullshit of misinformation and Zionist propaganda! 188.23.179.183    \n",
       "12                                                                                                                                                                       The DoS was my entire Internet connection shutting down momentarily just after posting. You're an asshole. Ban me. You're still an asshole. You know I'm right. But you'll fight tooth and nail for your own opinion despite a third party source that indicates the validity of the source material. May all your edits be attacked by people as resolutely brick-headed as you. 71.102.18.173    "
      ]
     },
     "execution_count": 16,
     "metadata": {},
     "output_type": "execute_result"
    }
   ],
   "source": [
    "pd.set_option('display.max_colwidth', None)\n",
    "bert_2_bilstm_right_preds.head(10)"
   ]
  },
  {
   "cell_type": "markdown",
   "metadata": {},
   "source": [
    "Correct preds maybe bcos of: \n",
    "1. toxic/curse words have higher score (expected) "
   ]
  },
  {
   "cell_type": "code",
   "execution_count": 17,
   "metadata": {},
   "outputs": [
    {
     "data": {
      "text/html": [
       "<div>\n",
       "<style scoped>\n",
       "    .dataframe tbody tr th:only-of-type {\n",
       "        vertical-align: middle;\n",
       "    }\n",
       "\n",
       "    .dataframe tbody tr th {\n",
       "        vertical-align: top;\n",
       "    }\n",
       "\n",
       "    .dataframe thead th {\n",
       "        text-align: right;\n",
       "    }\n",
       "</style>\n",
       "<table border=\"1\" class=\"dataframe\">\n",
       "  <thead>\n",
       "    <tr style=\"text-align: right;\">\n",
       "      <th></th>\n",
       "      <th>worker</th>\n",
       "      <th>less_toxic</th>\n",
       "      <th>more_toxic</th>\n",
       "    </tr>\n",
       "  </thead>\n",
       "  <tbody>\n",
       "    <tr>\n",
       "      <th>0</th>\n",
       "      <td>313</td>\n",
       "      <td>This article sucks \\n\\nwoo woo wooooooo</td>\n",
       "      <td>WHAT!!!!!!!!?!?!!?!?!!?!?!?!?!!!!!!!!!!!!!!!!!!!!!!!!??????????????????????????????????????????????????????!!!!!!=\\nWHER IS YOUR SEXY PIC GONE FROM YOUR MAIN PAGE???????? put it back</td>\n",
       "    </tr>\n",
       "    <tr>\n",
       "      <th>4</th>\n",
       "      <td>539</td>\n",
       "      <td>smelly vagina \\n\\nBluerasberry why don't you be a model for a cheesy blue vagina syndrome. A lot are experiencing this vaginal disease.</td>\n",
       "      <td>hey \\n\\nway to support nazis, you racist</td>\n",
       "    </tr>\n",
       "    <tr>\n",
       "      <th>5</th>\n",
       "      <td>437</td>\n",
       "      <td>There's a better answer to the question: the people that made the anime fucked up.</td>\n",
       "      <td>I'm not new here. I don't know what the hell you are talking about. Don't talk to me again.</td>\n",
       "    </tr>\n",
       "    <tr>\n",
       "      <th>15</th>\n",
       "      <td>540</td>\n",
       "      <td>page. Untill then don't waste my time by posting crap things on my</td>\n",
       "      <td>! \\n\\nShut your mouth! Dont tell me to be civil because I am done here. I will not log back into this site again or contribute to it again. Everybody here wants to act like a jackass thats fine, because I dont have to tolerate it.</td>\n",
       "    </tr>\n",
       "    <tr>\n",
       "      <th>16</th>\n",
       "      <td>258</td>\n",
       "      <td>\"\\nI think you went overboard here and blew your load a little too quickly by blocking me for a week for posting on my own talk page.  It really is quite ridiculous. I have understood that users on wikipedia have far greater leeway on their own user talk pages and user pages, and asking other users to stay off is an accepted practice.  My comments on the Sarah Palin edit summary probably went over the line and deserved either a warning or 1 day block because of the article probation, and I should not have reacted the way I did to the other users instigation.  But again I note that I did not notice you posting a similar warning to the user who said in his edit summary towards me \"\"then stop posting biased crap\"\" . \\nYour entitled to do whatever the fuck you want on wikipedia Coffee because you have the powers which are very hard to take away, but really learn how to read what you link to.  Lookup what the definition of harassment, I didn't threaten or try to intimidate you.  I might have insulted you and your fragile sensibilities, but I certainly did not harass you.  I stick by what I said though, please fuck off my talk page after this situation is done.  Keep fucking that chicken.  Bits andPieces \"</td>\n",
       "      <td>User Talk \\n\\nYOU ARE VANDALIZING MY PAGE. PLEASE HALT. I tried to resolve this peacefully and without incident, howevever you are violating my rights as a user. I am trying to compromise and you aren't interested in the least in listening. Let us discuss this FOR THE FINAL TIME.</td>\n",
       "    </tr>\n",
       "    <tr>\n",
       "      <th>21</th>\n",
       "      <td>277</td>\n",
       "      <td>Pontiac Montana \\n\\nIf someone ever adds a sorce that says it wont be discounted i will laugh in your face karrmann because ibelive them more than you you are full of shit\\n\\nleave this article alone or i will report you \\n\\nF</td>\n",
       "      <td>\"\\n\\nI think the key words here are \"\"claim to have been molested.\"\"  Justin was an Internet sex entrepreneur and a high paid male prostitute, who had numerous opportunities to get out of the business had he wanted to do so.  It is only society's blind and blanket characterization of everyone under the age of 18 as having been \"\"molested\"\" when they engage in problematical sexual activity, which permits Justin to make a quick transition from selling his body to selling his victimhood. Rookiee's article was fact-based and properly sourced.  That Justin didn't like it when the facts weren't spun from a victimologist perspective is immaterial.\\n\\nWikipedia pretends that it's run by consensus as long as volunteers are happily creating multiple millions of dollars in free intellectual property for Jimbo.  Once that task is largely complete, the truth is revealed, which is that this is basically Jimbo's private BBS where he can do anything he feels like, and the contributions he paid nothing for are his to exploit any way he wishes.\\n\\nGood luck with your Oprah-esque fluff piece on the attention-seeking camwhore.  \\n\\n\"</td>\n",
       "    </tr>\n",
       "    <tr>\n",
       "      <th>22</th>\n",
       "      <td>22</td>\n",
       "      <td>LGagnon \\ni for one, think lgagnon is a big fat cock sucker.  lgagnon? Lgagnon my nuts.</td>\n",
       "      <td>Patrick J. Kennedy\\nWhy did you delete my edit to the Patrick Kennedy article? My edit was completely factual. Homosexual Providence mayor David Cicilline will replace him in January 2011, and that is all that I wrote. I have undid your revision. Please do not erase my edits like this in the future. Thank you. 173.71.93.148</td>\n",
       "    </tr>\n",
       "    <tr>\n",
       "      <th>27</th>\n",
       "      <td>95</td>\n",
       "      <td>Adming  is the one who abuses Wikipedia to force his stupid personal taste for just that one particular article.  He is an admin and tries to make just one article out of line with wikipedia standards and style.  Instead of bothering me, go ask that idiot why he tries to make Wikipedia articles inconsistent.   02:47, 27 Mar 2005 (UTC)</td>\n",
       "      <td>\"::Witkacy, it would be better if you refrained from saying \"\"all\"\", \"\"every\"\" or \"\"most\"\" in connection to statements about personal characteristics.  This makes the article NPOV.  I am sure that it may seem that Poles are dealt many criticisms about Anti-Semitism, but that is no different elsewhere in the world.  Of course, the unique relationship between Christian Poles and Polish Jews is duly noted as causing your perception.  Most people consider the Poles as superfriendly to Jews, but in fact the Polish commoners had no special like for Jews.  These common misperceptions would be best cleared up, if you kept all terms neutral as possible.  We don't need people getting upset and wanting to fight back and forth.  Your own feelings about being discriminated against by inconsiderate Jews going on their rants about the Holocaust, don't belong in the focus of an article.  You have every right to feel upset about the Blitzkrieg and Nazi occupation of your land, including your upset attitude in being slighted by the ignorance of foreigners who think that damage to your people was neglible or meaningless.  It is their ignorance and apathy that keeps them from forgetting about your loss, but Poles don't shove guilt upon the world about the Holocaust as many Jews seem to do.  Take it from me.  I used to have many misconceptions about the Poles and Wikipedia has changed them.    \\n\\n\"</td>\n",
       "    </tr>\n",
       "    <tr>\n",
       "      <th>34</th>\n",
       "      <td>338</td>\n",
       "      <td>Hi,\\n\\nI have the whole source of the original article. I have tried many times to restore it but apparently sitush and some editors wont let me do that. They have made it all about polyandry and stupid stuffs like that. Even if you mention reliable source they wont accept. They have even rejected encyclopedia 2008. This is a clear case of jealousy and treachery.</td>\n",
       "      <td>The attempt to delete this article was created in a fit of rage by the editors of this site when they found out that alexa ranks ma higher than their other favorite musical misinformation sites. hahahahahahahahahahahahahahaha!!!! Metal-Archives &gt; wikipedia + every other worthless music site on the web. hahahahahahahahahahahaha!!!!</td>\n",
       "    </tr>\n",
       "    <tr>\n",
       "      <th>37</th>\n",
       "      <td>139</td>\n",
       "      <td>No Picture? \\n\\nWith such a heinous murder and rape spree, why isn't there a picture of the thug? His spiteful, bastard face must be seen to have the full effect: Mugshot\\n\\nAlso, it should be mentioned somewhere, maybe in a Controversies section, that the Oakland black community and black activist groups actually came to Mixon's defense- calling him a soldier, a hero, and a victim: Source 1 , Source 2 50.29.10.210</td>\n",
       "      <td>\"Some liberal kook writes \"\"A standalone \"\"Credibility\"\" section would be too hurtful to her and her family.\"\"\\n\\nHurtful to her family?? This woman is LYING through her teeth about being an Indian. And she is running to be one of only 100 US Senators. Is whether or not something is hurtful 'to her and her family' (meaning of course to her CAMPAIGN!!) the standard you use when you collect all the TRASH you possibly can on Michelle Malkin, Ann Coulter, Bill O'Reilly, Rush Limbaugh, Dick Cheney etc etc etc???\\nBahahahah 99.185.56.156  \\n\\n\"</td>\n",
       "    </tr>\n",
       "  </tbody>\n",
       "</table>\n",
       "</div>"
      ],
      "text/plain": [
       "    worker  \\\n",
       "0      313   \n",
       "4      539   \n",
       "5      437   \n",
       "15     540   \n",
       "16     258   \n",
       "21     277   \n",
       "22      22   \n",
       "27      95   \n",
       "34     338   \n",
       "37     139   \n",
       "\n",
       "                                                                                                                                                                                                                                                                                                                                                                                                                                                                                                                                                                                                                                                                                                                                                                                                                                                                                                                                                                                                                                                                                                                                                                                                                                                             less_toxic  \\\n",
       "0                                                                                                                                                                                                                                                                                                                                                                                                                                                                                                                                                                                                                                                                                                                                                                                                                                                                                                                                                                                                                                                                                                                                                                                                                               This article sucks \\n\\nwoo woo wooooooo   \n",
       "4                                                                                                                                                                                                                                                                                                                                                                                                                                                                                                                                                                                                                                                                                                                                                                                                                                                                                                                                                                                                                                                                                                                               smelly vagina \\n\\nBluerasberry why don't you be a model for a cheesy blue vagina syndrome. A lot are experiencing this vaginal disease.   \n",
       "5                                                                                                                                                                                                                                                                                                                                                                                                                                                                                                                                                                                                                                                                                                                                                                                                                                                                                                                                                                                                                                                                                                                                                                                  There's a better answer to the question: the people that made the anime fucked up.     \n",
       "15                                                                                                                                                                                                                                                                                                                                                                                                                                                                                                                                                                                                                                                                                                                                                                                                                                                                                                                                                                                                                                                                                                                                                                                                  page. Untill then don't waste my time by posting crap things on my    \n",
       "16  \"\\nI think you went overboard here and blew your load a little too quickly by blocking me for a week for posting on my own talk page.  It really is quite ridiculous. I have understood that users on wikipedia have far greater leeway on their own user talk pages and user pages, and asking other users to stay off is an accepted practice.  My comments on the Sarah Palin edit summary probably went over the line and deserved either a warning or 1 day block because of the article probation, and I should not have reacted the way I did to the other users instigation.  But again I note that I did not notice you posting a similar warning to the user who said in his edit summary towards me \"\"then stop posting biased crap\"\" . \\nYour entitled to do whatever the fuck you want on wikipedia Coffee because you have the powers which are very hard to take away, but really learn how to read what you link to.  Lookup what the definition of harassment, I didn't threaten or try to intimidate you.  I might have insulted you and your fragile sensibilities, but I certainly did not harass you.  I stick by what I said though, please fuck off my talk page after this situation is done.  Keep fucking that chicken.  Bits andPieces \"   \n",
       "21                                                                                                                                                                                                                                                                                                                                                                                                                                                                                                                                                                                                                                                                                                                                                                                                                                                                                                                                                                                                                                   Pontiac Montana \\n\\nIf someone ever adds a sorce that says it wont be discounted i will laugh in your face karrmann because ibelive them more than you you are full of shit\\n\\nleave this article alone or i will report you \\n\\nF   \n",
       "22                                                                                                                                                                                                                                                                                                                                                                                                                                                                                                                                                                                                                                                                                                                                                                                                                                                                                                                                                                                                                                                                                                                                                                              LGagnon \\ni for one, think lgagnon is a big fat cock sucker.  lgagnon? Lgagnon my nuts.   \n",
       "27                                                                                                                                                                                                                                                                                                                                                                                                                                                                                                                                                                                                                                                                                                                                                                                                                                                                                                                     Adming  is the one who abuses Wikipedia to force his stupid personal taste for just that one particular article.  He is an admin and tries to make just one article out of line with wikipedia standards and style.  Instead of bothering me, go ask that idiot why he tries to make Wikipedia articles inconsistent.   02:47, 27 Mar 2005 (UTC)   \n",
       "34                                                                                                                                                                                                                                                                                                                                                                                                                                                                                                                                                                                                                                                                                                                                                                                                                                                                                        Hi,\\n\\nI have the whole source of the original article. I have tried many times to restore it but apparently sitush and some editors wont let me do that. They have made it all about polyandry and stupid stuffs like that. Even if you mention reliable source they wont accept. They have even rejected encyclopedia 2008. This is a clear case of jealousy and treachery.   \n",
       "37                                                                                                                                                                                                                                                                                                                                                                                                                                                                                                                                                                                                                                                                                                                                                                                                                                 No Picture? \\n\\nWith such a heinous murder and rape spree, why isn't there a picture of the thug? His spiteful, bastard face must be seen to have the full effect: Mugshot\\n\\nAlso, it should be mentioned somewhere, maybe in a Controversies section, that the Oakland black community and black activist groups actually came to Mixon's defense- calling him a soldier, a hero, and a victim: Source 1 , Source 2 50.29.10.210     \n",
       "\n",
       "                                                                                                                                                                                                                                                                                                                                                                                                                                                                                                                                                                                                                                                                                                                                                                                                                                                                                                                                                                                                                                                                                                                                                                                                                                                                                                                                                                                                                                                   more_toxic  \n",
       "0                                                                                                                                                                                                                                                                                                                                                                                                                                                                                                                                                                                                                                                                                                                                                                                                                                                                                                                                                                                                                                                                                                                                                                                                                                                                      WHAT!!!!!!!!?!?!!?!?!!?!?!?!?!!!!!!!!!!!!!!!!!!!!!!!!??????????????????????????????????????????????????????!!!!!!=\\nWHER IS YOUR SEXY PIC GONE FROM YOUR MAIN PAGE???????? put it back  \n",
       "4                                                                                                                                                                                                                                                                                                                                                                                                                                                                                                                                                                                                                                                                                                                                                                                                                                                                                                                                                                                                                                                                                                                                                                                                                                                                                                                                                                                                                    hey \\n\\nway to support nazis, you racist  \n",
       "5                                                                                                                                                                                                                                                                                                                                                                                                                                                                                                                                                                                                                                                                                                                                                                                                                                                                                                                                                                                                                                                                                                                                                                                                                                                                                                                                                                 I'm not new here. I don't know what the hell you are talking about. Don't talk to me again.  \n",
       "15                                                                                                                                                                                                                                                                                                                                                                                                                                                                                                                                                                                                                                                                                                                                                                                                                                                                                                                                                                                                                                                                                                                                                                                                                   ! \\n\\nShut your mouth! Dont tell me to be civil because I am done here. I will not log back into this site again or contribute to it again. Everybody here wants to act like a jackass thats fine, because I dont have to tolerate it.    \n",
       "16                                                                                                                                                                                                                                                                                                                                                                                                                                                                                                                                                                                                                                                                                                                                                                                                                                                                                                                                                                                                                                                                                                                                                                   User Talk \\n\\nYOU ARE VANDALIZING MY PAGE. PLEASE HALT. I tried to resolve this peacefully and without incident, howevever you are violating my rights as a user. I am trying to compromise and you aren't interested in the least in listening. Let us discuss this FOR THE FINAL TIME.  \n",
       "21                                                                                                                                                                                                                                                                                \"\\n\\nI think the key words here are \"\"claim to have been molested.\"\"  Justin was an Internet sex entrepreneur and a high paid male prostitute, who had numerous opportunities to get out of the business had he wanted to do so.  It is only society's blind and blanket characterization of everyone under the age of 18 as having been \"\"molested\"\" when they engage in problematical sexual activity, which permits Justin to make a quick transition from selling his body to selling his victimhood. Rookiee's article was fact-based and properly sourced.  That Justin didn't like it when the facts weren't spun from a victimologist perspective is immaterial.\\n\\nWikipedia pretends that it's run by consensus as long as volunteers are happily creating multiple millions of dollars in free intellectual property for Jimbo.  Once that task is largely complete, the truth is revealed, which is that this is basically Jimbo's private BBS where he can do anything he feels like, and the contributions he paid nothing for are his to exploit any way he wishes.\\n\\nGood luck with your Oprah-esque fluff piece on the attention-seeking camwhore.  \\n\\n\"  \n",
       "22                                                                                                                                                                                                                                                                                                                                                                                                                                                                                                                                                                                                                                                                                                                                                                                                                                                                                                                                                                                                                                                                                                                    Patrick J. Kennedy\\nWhy did you delete my edit to the Patrick Kennedy article? My edit was completely factual. Homosexual Providence mayor David Cicilline will replace him in January 2011, and that is all that I wrote. I have undid your revision. Please do not erase my edits like this in the future. Thank you. 173.71.93.148    \n",
       "27  \"::Witkacy, it would be better if you refrained from saying \"\"all\"\", \"\"every\"\" or \"\"most\"\" in connection to statements about personal characteristics.  This makes the article NPOV.  I am sure that it may seem that Poles are dealt many criticisms about Anti-Semitism, but that is no different elsewhere in the world.  Of course, the unique relationship between Christian Poles and Polish Jews is duly noted as causing your perception.  Most people consider the Poles as superfriendly to Jews, but in fact the Polish commoners had no special like for Jews.  These common misperceptions would be best cleared up, if you kept all terms neutral as possible.  We don't need people getting upset and wanting to fight back and forth.  Your own feelings about being discriminated against by inconsiderate Jews going on their rants about the Holocaust, don't belong in the focus of an article.  You have every right to feel upset about the Blitzkrieg and Nazi occupation of your land, including your upset attitude in being slighted by the ignorance of foreigners who think that damage to your people was neglible or meaningless.  It is their ignorance and apathy that keeps them from forgetting about your loss, but Poles don't shove guilt upon the world about the Holocaust as many Jews seem to do.  Take it from me.  I used to have many misconceptions about the Poles and Wikipedia has changed them.    \\n\\n\"  \n",
       "34                                                                                                                                                                                                                                                                                                                                                                                                                                                                                                                                                                                                                                                                                                                                                                                                                                                                                                                                                                                                                                                                                                               The attempt to delete this article was created in a fit of rage by the editors of this site when they found out that alexa ranks ma higher than their other favorite musical misinformation sites. hahahahahahahahahahahahahahaha!!!! Metal-Archives > wikipedia + every other worthless music site on the web. hahahahahahahahahahahaha!!!!  \n",
       "37                                                                                                                                                                                                                                                                                                                                                                                                                                                                                                                                                                                                                                                                                                                                                                                                                                                                                           \"Some liberal kook writes \"\"A standalone \"\"Credibility\"\" section would be too hurtful to her and her family.\"\"\\n\\nHurtful to her family?? This woman is LYING through her teeth about being an Indian. And she is running to be one of only 100 US Senators. Is whether or not something is hurtful 'to her and her family' (meaning of course to her CAMPAIGN!!) the standard you use when you collect all the TRASH you possibly can on Michelle Malkin, Ann Coulter, Bill O'Reilly, Rush Limbaugh, Dick Cheney etc etc etc???\\nBahahahah 99.185.56.156  \\n\\n\"  "
      ]
     },
     "execution_count": 17,
     "metadata": {},
     "output_type": "execute_result"
    }
   ],
   "source": [
    "bert_2_bilstm_wrong_preds.head(10)"
   ]
  },
  {
   "cell_type": "code",
   "execution_count": 39,
   "metadata": {},
   "outputs": [
    {
     "data": {
      "text/plain": [
       "less_toxic    0.234526\n",
       "more_toxic    0.242691\n",
       "Name: 32, dtype: float64"
      ]
     },
     "execution_count": 39,
     "metadata": {},
     "output_type": "execute_result"
    }
   ],
   "source": [
    "bert_2_biLSTM.loc[32]"
   ]
  },
  {
   "cell_type": "markdown",
   "metadata": {},
   "source": [
    "Predicting wrong where:\n",
    "1. index 4: model is scoring higher on curse words than identity hate -> according to annotators identity hate (nazis) should rank higher;. ie having curse automatically makes it higher. Almost double the weight. \n",
    "2. index 0 ** -> curse word sucks is ranked higher than non curse sentence which are more offensive. according to annotators sexual harassment is ranked higher\n",
    "3. index 5: similar reason\n",
    "4. index 15: both has curse so close score. (1.681268, 1.450271)  second has civil in it (maybe bit less score?)\n",
    "5. index 16**: interesting case. both are close case, according to me but model ranks 20 times just bcos of fuck. Think CAPITAL letters matters\n",
    "\n",
    "\n",
    "# seems a simple model"
   ]
  },
  {
   "cell_type": "markdown",
   "metadata": {},
   "source": [
    "## Unitary AI"
   ]
  },
  {
   "cell_type": "code",
   "execution_count": 26,
   "metadata": {},
   "outputs": [
    {
     "data": {
      "text/plain": [
       "(       less_toxic  more_toxic\n",
       " 0        2.157796    1.507812\n",
       " 1        0.002027    1.909370\n",
       " 2        0.080560    0.372039\n",
       " 3        1.370524    3.252640\n",
       " 4        2.605629    2.015862\n",
       " ...           ...         ...\n",
       " 30103    0.591702    2.466029\n",
       " 30104    0.591702    2.466029\n",
       " 30105    0.306528    2.357453\n",
       " 30106    0.306528    2.357453\n",
       " 30107    0.306528    2.357453\n",
       " \n",
       " [30108 rows x 2 columns],\n",
       " (30108, 2))"
      ]
     },
     "execution_count": 26,
     "metadata": {},
     "output_type": "execute_result"
    }
   ],
   "source": [
    "original = model_preds_df_list[3]\n",
    "original, original.shape"
   ]
  },
  {
   "cell_type": "code",
   "execution_count": 27,
   "metadata": {},
   "outputs": [
    {
     "data": {
      "text/plain": [
       "((20875, 3), (9233, 3))"
      ]
     },
     "execution_count": 27,
     "metadata": {},
     "output_type": "execute_result"
    }
   ],
   "source": [
    "original_right_preds = val_df[original[more_toxic_key] > original[less_toxic_key]]\n",
    "original_wrong_preds = val_df[original[more_toxic_key] <= original[less_toxic_key]]\n",
    "original_right_preds.shape, original_wrong_preds.shape ## almost 66% accuracy"
   ]
  },
  {
   "cell_type": "code",
   "execution_count": 30,
   "metadata": {},
   "outputs": [
    {
     "data": {
      "text/html": [
       "<div>\n",
       "<style scoped>\n",
       "    .dataframe tbody tr th:only-of-type {\n",
       "        vertical-align: middle;\n",
       "    }\n",
       "\n",
       "    .dataframe tbody tr th {\n",
       "        vertical-align: top;\n",
       "    }\n",
       "\n",
       "    .dataframe thead th {\n",
       "        text-align: right;\n",
       "    }\n",
       "</style>\n",
       "<table border=\"1\" class=\"dataframe\">\n",
       "  <thead>\n",
       "    <tr style=\"text-align: right;\">\n",
       "      <th></th>\n",
       "      <th>worker</th>\n",
       "      <th>less_toxic</th>\n",
       "      <th>more_toxic</th>\n",
       "    </tr>\n",
       "  </thead>\n",
       "  <tbody>\n",
       "    <tr>\n",
       "      <th>1</th>\n",
       "      <td>188</td>\n",
       "      <td>\"And yes, people should recognize that but they usually don't. One of the first objections you hear directed at someone who says he favors free markets is invariably \"\"There's no such thing as a free market.\"\" Ridiculously trivial. \"</td>\n",
       "      <td>Daphne Guinness \\n\\nTop of the mornin' my favourite Alien Life Form. I'm sorry, I can't marry you because you are a poor commoner so, therefore, unimportant. Can I have my dresses back. I hope your fat Oirish arse hasn't stretched them.</td>\n",
       "    </tr>\n",
       "    <tr>\n",
       "      <th>2</th>\n",
       "      <td>82</td>\n",
       "      <td>Western Media?\\n\\nYup, because every crime in the entire world is caused by the west.  Racists.</td>\n",
       "      <td>\"Atom you don't believe actual photos of masturbation is sexually explicit photos. I am sorry to say they are sexually explicit and so you said yourself that the disclaimer is used for that purpose. Also, Wikipedia itself is targeted for minors. In addition, you say that Wikipedia does not have child pornography photos. I do believe there is a photo of a real prepubescent child nude (not an illustration) that is in bondage with the title \"\"Virgin Killer\"\". Which recently Wikipedia archived so no more comments could be made. 211.220.23.15  \\n\\n\"</td>\n",
       "    </tr>\n",
       "    <tr>\n",
       "      <th>3</th>\n",
       "      <td>347</td>\n",
       "      <td>And you removed it! You numbskull! I don't care what you say anymore, this is my life! Go ahead with your own life, leave me alone! —</td>\n",
       "      <td>You seem to have sand in your vagina.\\n\\nMight want to wash that stinking hole out, bitch.</td>\n",
       "    </tr>\n",
       "    <tr>\n",
       "      <th>6</th>\n",
       "      <td>52</td>\n",
       "      <td>\"\\n\\nHey Dude\\nWell, I guess you know that TREY and I got blocked for our \"\"behaviour\"\" when dealing with Kd lvr and Kdkatpir2 and that those two are no longer sockpuppets nor meatpuppets.  Which adds to my confusion.  Oh well.  TREY has quit Wikipedia and I no longer helping, reverting, or reporting anyone.  I am going to let them handle it.  Hope you have a good day.... (VT) \"</td>\n",
       "      <td>gender neutral \\n\\nwhy is the page called henchmen there are females like Lucy saxon in this page shouldnt it have a gender neutral name like sub-villain</td>\n",
       "    </tr>\n",
       "    <tr>\n",
       "      <th>7</th>\n",
       "      <td>672</td>\n",
       "      <td>Also my remarks are indeed a criticism of you and your behavior in relation to the dreamhost talkpage but if you are indeed a NPOV then admin you should perhaps instead of interpreting them as a personal attack read them as just criticism and take steps to improve your conduct.</td>\n",
       "      <td>Why not head on over to WP:RFA and try your hand at getting a mop for all your bullshit?  Just think!  Maybe one day your useless editing and countless wasted hours/days/weeks here will get you a silly little icon and an excuse to waste even more time. 67.176.98.94</td>\n",
       "    </tr>\n",
       "    <tr>\n",
       "      <th>8</th>\n",
       "      <td>52</td>\n",
       "      <td>\" July 2012 (UTC)\\n\\nI\"\"M ABUSING PEOPLE!!!!!?????\\nYour the one ranting on about how it doesn't exist, the Battle for Australia DID happen it was very similiar to the Battle of Britain, so are you saying the Battle of Britain didn't happen? Of course not, your probably British and will do anything to put down the Aussies, even if it means tampering with our history.\\nDon't tell me to read a book on that battle, I know more about it than you do obviously. The Battle for Australia is not historiographcal, ask any veteran about what they thought during the KOKODA CAMPAIGN, and they believed they were \"\"fighting to save Australia\"\". You just hate this country, and your anti-Australian approach shines right through, F*ck you!!  06:41, 4\"</td>\n",
       "      <td>You are such a useless bitch! I mean do you have a life or friends? Because all you do is sit at your computer on wikipeida. You are a loser and I would watch out because you will be blocked soon!\\n{Talkback|Tdawg4701}</td>\n",
       "    </tr>\n",
       "    <tr>\n",
       "      <th>9</th>\n",
       "      <td>539</td>\n",
       "      <td>It's just simple Beefcake... \\n\\nThe recent edit I made to Star Trek: Of Gods and Men was constructive, the film really did suck. I mean Bill Shatner's last record was bad but this... Astral please do not abuse Wikipedia and vandalise the article Star Trek: Of Gods and Men again or you will be banned. Beffcake. BEEFCAKE!</td>\n",
       "      <td>Hi \\n\\nI Hate you. ^_^</td>\n",
       "    </tr>\n",
       "    <tr>\n",
       "      <th>10</th>\n",
       "      <td>553</td>\n",
       "      <td>You are the one who is trolling \\n\\nI was not trolling. I went to see the user page of this person who kept vandalising my writings in Dog to see what his writings were. His user name is EGordon. It turns out, his writings are generally incorrect and far more in need of citations than mine. So I asked him for citations where they were needed, and here merely weasled out of it by deleting the {fact} text, without showing the citations. He says half the land in Australia is Crown land and it is mainly used as airports and utilities. What nonsense, half the land in Australia is used for airports? How can you allow such spench to remain in Wikipedia? Now look what you do. He was not only asking me for citations in Dog where they are not needed, he was erasing whole 3-paragraph text that I had spent hours creating. Then YOU came back and erased them again, which I believe is also vandalism,and quite insulting. Nobody told me WHY I needed citations, neither you nor EGordon are even qualified to ask me for citations since you are not veterinarians. You and he are guilty of vandalising another writers perfectly sound writings, and you should both be banned of your editorial priv's. I am going to go over your heads and have both of you removed now. How DARE you block me? How DARE YOU? This is utterly absurd.\\n\\nIf anybody is guilty of trolling it is you, why are you here on my page? At least EGordon stopped stalking me, but you haven't. What do you do, wake up in the morning, turn on your computer, and go right to my user page to check up on me. You are not qualified to edit my writings.</td>\n",
       "      <td>yall are fags who like it up the ass hard</td>\n",
       "    </tr>\n",
       "    <tr>\n",
       "      <th>11</th>\n",
       "      <td>614</td>\n",
       "      <td>\"\\n\\n Tournament winnings \\n\"\"As of 2005, his total live tournament winnings exceed $2,740,000.\"\"\\n\\nIs this line really necessary considering the first paragraph mentions the $2.5mil and the $200,000.  Useless sentence, I deleted it.\"</td>\n",
       "      <td>Fuck wiki\\n\\nFuck this piece of shit called Wikipedia, it bullshit of misinformation and Zionist propaganda! 188.23.179.183</td>\n",
       "    </tr>\n",
       "    <tr>\n",
       "      <th>12</th>\n",
       "      <td>144</td>\n",
       "      <td>If he doesn't follow through with that, I certainly will. If you do not feel strongly about your decision, I urge you to reconsider both the context and the actual edits in question. What you are doing here is sending a message to Factomancer and users like Factomancer that will only perpetuate this petty series of events that has developed over the last few weeks. They will see this as a success in their WP:BATTLE and proof that if they report everything that can possibly be construed as a violation to AN/I and AE, some shit will eventually stick. I think you mentioned something about gaming the system? Indeed.</td>\n",
       "      <td>The DoS was my entire Internet connection shutting down momentarily just after posting. You're an asshole. Ban me. You're still an asshole. You know I'm right. But you'll fight tooth and nail for your own opinion despite a third party source that indicates the validity of the source material. May all your edits be attacked by people as resolutely brick-headed as you. 71.102.18.173</td>\n",
       "    </tr>\n",
       "  </tbody>\n",
       "</table>\n",
       "</div>"
      ],
      "text/plain": [
       "    worker  \\\n",
       "1      188   \n",
       "2       82   \n",
       "3      347   \n",
       "6       52   \n",
       "7      672   \n",
       "8       52   \n",
       "9      539   \n",
       "10     553   \n",
       "11     614   \n",
       "12     144   \n",
       "\n",
       "                                                                                                                                                                                                                                                                                                                                                                                                                                                                                                                                                                                                                                                                                                                                                                                                                                                                                                                                                                                                                                                                                                                                                                                                                                                                                                                                                                                                                                                                                                                                                                                                                                                                 less_toxic  \\\n",
       "1                                                                                                                                                                                                                                                                                                                                                                                                                                                                                                                                                                                                                                                                                                                                                                                                                                                                                                                                                                                                                                                                                                                                                                                                                                                                                                                                                                                                                                 \"And yes, people should recognize that but they usually don't. One of the first objections you hear directed at someone who says he favors free markets is invariably \"\"There's no such thing as a free market.\"\" Ridiculously trivial. \"   \n",
       "2                                                                                                                                                                                                                                                                                                                                                                                                                                                                                                                                                                                                                                                                                                                                                                                                                                                                                                                                                                                                                                                                                                                                                                                                                                                                                                                                                                                                                                                                                                                                                                        Western Media?\\n\\nYup, because every crime in the entire world is caused by the west.  Racists.      \n",
       "3                                                                                                                                                                                                                                                                                                                                                                                                                                                                                                                                                                                                                                                                                                                                                                                                                                                                                                                                                                                                                                                                                                                                                                                                                                                                                                                                                                                                                                                                                                                                    And you removed it! You numbskull! I don't care what you say anymore, this is my life! Go ahead with your own life, leave me alone! —    \n",
       "6                                                                                                                                                                                                                                                                                                                                                                                                                                                                                                                                                                                                                                                                                                                                                                                                                                                                                                                                                                                                                                                                                                                                                                                                                                                                             \"\\n\\nHey Dude\\nWell, I guess you know that TREY and I got blocked for our \"\"behaviour\"\" when dealing with Kd lvr and Kdkatpir2 and that those two are no longer sockpuppets nor meatpuppets.  Which adds to my confusion.  Oh well.  TREY has quit Wikipedia and I no longer helping, reverting, or reporting anyone.  I am going to let them handle it.  Hope you have a good day.... (VT) \"   \n",
       "7                                                                                                                                                                                                                                                                                                                                                                                                                                                                                                                                                                                                                                                                                                                                                                                                                                                                                                                                                                                                                                                                                                                                                                                                                                                                                                                                                                                  Also my remarks are indeed a criticism of you and your behavior in relation to the dreamhost talkpage but if you are indeed a NPOV then admin you should perhaps instead of interpreting them as a personal attack read them as just criticism and take steps to improve your conduct.     \n",
       "8                                                                                                                                                                                                                                                                                                                                                                                                                                                                                                                                                                                                                                                                                                                                                                                                                                                                                                   \" July 2012 (UTC)\\n\\nI\"\"M ABUSING PEOPLE!!!!!?????\\nYour the one ranting on about how it doesn't exist, the Battle for Australia DID happen it was very similiar to the Battle of Britain, so are you saying the Battle of Britain didn't happen? Of course not, your probably British and will do anything to put down the Aussies, even if it means tampering with our history.\\nDon't tell me to read a book on that battle, I know more about it than you do obviously. The Battle for Australia is not historiographcal, ask any veteran about what they thought during the KOKODA CAMPAIGN, and they believed they were \"\"fighting to save Australia\"\". You just hate this country, and your anti-Australian approach shines right through, F*ck you!!  06:41, 4\"   \n",
       "9                                                                                                                                                                                                                                                                                                                                                                                                                                                                                                                                                                                                                                                                                                                                                                                                                                                                                                                                                                                                                                                                                                                                                                                                                                                                                                                                        It's just simple Beefcake... \\n\\nThe recent edit I made to Star Trek: Of Gods and Men was constructive, the film really did suck. I mean Bill Shatner's last record was bad but this... Astral please do not abuse Wikipedia and vandalise the article Star Trek: Of Gods and Men again or you will be banned. Beffcake. BEEFCAKE!   \n",
       "10   You are the one who is trolling \\n\\nI was not trolling. I went to see the user page of this person who kept vandalising my writings in Dog to see what his writings were. His user name is EGordon. It turns out, his writings are generally incorrect and far more in need of citations than mine. So I asked him for citations where they were needed, and here merely weasled out of it by deleting the {fact} text, without showing the citations. He says half the land in Australia is Crown land and it is mainly used as airports and utilities. What nonsense, half the land in Australia is used for airports? How can you allow such spench to remain in Wikipedia? Now look what you do. He was not only asking me for citations in Dog where they are not needed, he was erasing whole 3-paragraph text that I had spent hours creating. Then YOU came back and erased them again, which I believe is also vandalism,and quite insulting. Nobody told me WHY I needed citations, neither you nor EGordon are even qualified to ask me for citations since you are not veterinarians. You and he are guilty of vandalising another writers perfectly sound writings, and you should both be banned of your editorial priv's. I am going to go over your heads and have both of you removed now. How DARE you block me? How DARE YOU? This is utterly absurd.\\n\\nIf anybody is guilty of trolling it is you, why are you here on my page? At least EGordon stopped stalking me, but you haven't. What do you do, wake up in the morning, turn on your computer, and go right to my user page to check up on me. You are not qualified to edit my writings.    \n",
       "11                                                                                                                                                                                                                                                                                                                                                                                                                                                                                                                                                                                                                                                                                                                                                                                                                                                                                                                                                                                                                                                                                                                                                                                                                                                                                                                                                                                                                              \"\\n\\n Tournament winnings \\n\"\"As of 2005, his total live tournament winnings exceed $2,740,000.\"\"\\n\\nIs this line really necessary considering the first paragraph mentions the $2.5mil and the $200,000.  Useless sentence, I deleted it.\"   \n",
       "12                                                                                                                                                                                                                                                                                                                                                                                                                                                                                                                                                                                                                                                                                                                                                                                                                                                                                                                                                                                                                           If he doesn't follow through with that, I certainly will. If you do not feel strongly about your decision, I urge you to reconsider both the context and the actual edits in question. What you are doing here is sending a message to Factomancer and users like Factomancer that will only perpetuate this petty series of events that has developed over the last few weeks. They will see this as a success in their WP:BATTLE and proof that if they report everything that can possibly be construed as a violation to AN/I and AE, some shit will eventually stick. I think you mentioned something about gaming the system? Indeed.      \n",
       "\n",
       "                                                                                                                                                                                                                                                                                                                                                                                                                                                                                                                                                                more_toxic  \n",
       "1                                                                                                                                                                                                                                                                                                                             Daphne Guinness \\n\\nTop of the mornin' my favourite Alien Life Form. I'm sorry, I can't marry you because you are a poor commoner so, therefore, unimportant. Can I have my dresses back. I hope your fat Oirish arse hasn't stretched them.  \n",
       "2   \"Atom you don't believe actual photos of masturbation is sexually explicit photos. I am sorry to say they are sexually explicit and so you said yourself that the disclaimer is used for that purpose. Also, Wikipedia itself is targeted for minors. In addition, you say that Wikipedia does not have child pornography photos. I do believe there is a photo of a real prepubescent child nude (not an illustration) that is in bondage with the title \"\"Virgin Killer\"\". Which recently Wikipedia archived so no more comments could be made. 211.220.23.15  \\n\\n\"  \n",
       "3                                                                                                                                                                                                                                                                                                                                                                                                                                                                               You seem to have sand in your vagina.\\n\\nMight want to wash that stinking hole out, bitch.  \n",
       "6                                                                                                                                                                                                                                                                                                                                                                                                              gender neutral \\n\\nwhy is the page called henchmen there are females like Lucy saxon in this page shouldnt it have a gender neutral name like sub-villain    \n",
       "7                                                                                                                                                                                                                                                                                              Why not head on over to WP:RFA and try your hand at getting a mop for all your bullshit?  Just think!  Maybe one day your useless editing and countless wasted hours/days/weeks here will get you a silly little icon and an excuse to waste even more time. 67.176.98.94    \n",
       "8                                                                                                                                                                                                                                                                                                                                               You are such a useless bitch! I mean do you have a life or friends? Because all you do is sit at your computer on wikipeida. You are a loser and I would watch out because you will be blocked soon!\\n{Talkback|Tdawg4701}  \n",
       "9                                                                                                                                                                                                                                                                                                                                                                                                                                                                                                                                                   Hi \\n\\nI Hate you. ^_^  \n",
       "10                                                                                                                                                                                                                                                                                                                                                                                                                                                                                                                               yall are fags who like it up the ass hard  \n",
       "11                                                                                                                                                                                                                                                                                                                                                                                                                                           Fuck wiki\\n\\nFuck this piece of shit called Wikipedia, it bullshit of misinformation and Zionist propaganda! 188.23.179.183    \n",
       "12                                                                                                                                                                       The DoS was my entire Internet connection shutting down momentarily just after posting. You're an asshole. Ban me. You're still an asshole. You know I'm right. But you'll fight tooth and nail for your own opinion despite a third party source that indicates the validity of the source material. May all your edits be attacked by people as resolutely brick-headed as you. 71.102.18.173    "
      ]
     },
     "execution_count": 30,
     "metadata": {},
     "output_type": "execute_result"
    }
   ],
   "source": [
    "original_right_preds.head(10)"
   ]
  },
  {
   "cell_type": "markdown",
   "metadata": {},
   "source": [
    "Good thing:\n",
    "1. model ranks curse higher "
   ]
  },
  {
   "cell_type": "code",
   "execution_count": 29,
   "metadata": {},
   "outputs": [
    {
     "data": {
      "text/html": [
       "<div>\n",
       "<style scoped>\n",
       "    .dataframe tbody tr th:only-of-type {\n",
       "        vertical-align: middle;\n",
       "    }\n",
       "\n",
       "    .dataframe tbody tr th {\n",
       "        vertical-align: top;\n",
       "    }\n",
       "\n",
       "    .dataframe thead th {\n",
       "        text-align: right;\n",
       "    }\n",
       "</style>\n",
       "<table border=\"1\" class=\"dataframe\">\n",
       "  <thead>\n",
       "    <tr style=\"text-align: right;\">\n",
       "      <th></th>\n",
       "      <th>worker</th>\n",
       "      <th>less_toxic</th>\n",
       "      <th>more_toxic</th>\n",
       "    </tr>\n",
       "  </thead>\n",
       "  <tbody>\n",
       "    <tr>\n",
       "      <th>0</th>\n",
       "      <td>313</td>\n",
       "      <td>This article sucks \\n\\nwoo woo wooooooo</td>\n",
       "      <td>WHAT!!!!!!!!?!?!!?!?!!?!?!?!?!!!!!!!!!!!!!!!!!!!!!!!!??????????????????????????????????????????????????????!!!!!!=\\nWHER IS YOUR SEXY PIC GONE FROM YOUR MAIN PAGE???????? put it back</td>\n",
       "    </tr>\n",
       "    <tr>\n",
       "      <th>4</th>\n",
       "      <td>539</td>\n",
       "      <td>smelly vagina \\n\\nBluerasberry why don't you be a model for a cheesy blue vagina syndrome. A lot are experiencing this vaginal disease.</td>\n",
       "      <td>hey \\n\\nway to support nazis, you racist</td>\n",
       "    </tr>\n",
       "    <tr>\n",
       "      <th>5</th>\n",
       "      <td>437</td>\n",
       "      <td>There's a better answer to the question: the people that made the anime fucked up.</td>\n",
       "      <td>I'm not new here. I don't know what the hell you are talking about. Don't talk to me again.</td>\n",
       "    </tr>\n",
       "    <tr>\n",
       "      <th>16</th>\n",
       "      <td>258</td>\n",
       "      <td>\"\\nI think you went overboard here and blew your load a little too quickly by blocking me for a week for posting on my own talk page.  It really is quite ridiculous. I have understood that users on wikipedia have far greater leeway on their own user talk pages and user pages, and asking other users to stay off is an accepted practice.  My comments on the Sarah Palin edit summary probably went over the line and deserved either a warning or 1 day block because of the article probation, and I should not have reacted the way I did to the other users instigation.  But again I note that I did not notice you posting a similar warning to the user who said in his edit summary towards me \"\"then stop posting biased crap\"\" . \\nYour entitled to do whatever the fuck you want on wikipedia Coffee because you have the powers which are very hard to take away, but really learn how to read what you link to.  Lookup what the definition of harassment, I didn't threaten or try to intimidate you.  I might have insulted you and your fragile sensibilities, but I certainly did not harass you.  I stick by what I said though, please fuck off my talk page after this situation is done.  Keep fucking that chicken.  Bits andPieces \"</td>\n",
       "      <td>User Talk \\n\\nYOU ARE VANDALIZING MY PAGE. PLEASE HALT. I tried to resolve this peacefully and without incident, howevever you are violating my rights as a user. I am trying to compromise and you aren't interested in the least in listening. Let us discuss this FOR THE FINAL TIME.</td>\n",
       "    </tr>\n",
       "    <tr>\n",
       "      <th>17</th>\n",
       "      <td>104</td>\n",
       "      <td>free me \\n\\ni have been banned free me you are my only hope of freedom from being banned</td>\n",
       "      <td>This has got to be the 10th time I've seen someone with this same complaint. The fact of the matter is that Wikipedia's editors are primarily young white males, and what do young white males enjoy more than pop culture? 98.207.43.214</td>\n",
       "    </tr>\n",
       "    <tr>\n",
       "      <th>21</th>\n",
       "      <td>277</td>\n",
       "      <td>Pontiac Montana \\n\\nIf someone ever adds a sorce that says it wont be discounted i will laugh in your face karrmann because ibelive them more than you you are full of shit\\n\\nleave this article alone or i will report you \\n\\nF</td>\n",
       "      <td>\"\\n\\nI think the key words here are \"\"claim to have been molested.\"\"  Justin was an Internet sex entrepreneur and a high paid male prostitute, who had numerous opportunities to get out of the business had he wanted to do so.  It is only society's blind and blanket characterization of everyone under the age of 18 as having been \"\"molested\"\" when they engage in problematical sexual activity, which permits Justin to make a quick transition from selling his body to selling his victimhood. Rookiee's article was fact-based and properly sourced.  That Justin didn't like it when the facts weren't spun from a victimologist perspective is immaterial.\\n\\nWikipedia pretends that it's run by consensus as long as volunteers are happily creating multiple millions of dollars in free intellectual property for Jimbo.  Once that task is largely complete, the truth is revealed, which is that this is basically Jimbo's private BBS where he can do anything he feels like, and the contributions he paid nothing for are his to exploit any way he wishes.\\n\\nGood luck with your Oprah-esque fluff piece on the attention-seeking camwhore.  \\n\\n\"</td>\n",
       "    </tr>\n",
       "    <tr>\n",
       "      <th>22</th>\n",
       "      <td>22</td>\n",
       "      <td>LGagnon \\ni for one, think lgagnon is a big fat cock sucker.  lgagnon? Lgagnon my nuts.</td>\n",
       "      <td>Patrick J. Kennedy\\nWhy did you delete my edit to the Patrick Kennedy article? My edit was completely factual. Homosexual Providence mayor David Cicilline will replace him in January 2011, and that is all that I wrote. I have undid your revision. Please do not erase my edits like this in the future. Thank you. 173.71.93.148</td>\n",
       "    </tr>\n",
       "    <tr>\n",
       "      <th>27</th>\n",
       "      <td>95</td>\n",
       "      <td>Adming  is the one who abuses Wikipedia to force his stupid personal taste for just that one particular article.  He is an admin and tries to make just one article out of line with wikipedia standards and style.  Instead of bothering me, go ask that idiot why he tries to make Wikipedia articles inconsistent.   02:47, 27 Mar 2005 (UTC)</td>\n",
       "      <td>\"::Witkacy, it would be better if you refrained from saying \"\"all\"\", \"\"every\"\" or \"\"most\"\" in connection to statements about personal characteristics.  This makes the article NPOV.  I am sure that it may seem that Poles are dealt many criticisms about Anti-Semitism, but that is no different elsewhere in the world.  Of course, the unique relationship between Christian Poles and Polish Jews is duly noted as causing your perception.  Most people consider the Poles as superfriendly to Jews, but in fact the Polish commoners had no special like for Jews.  These common misperceptions would be best cleared up, if you kept all terms neutral as possible.  We don't need people getting upset and wanting to fight back and forth.  Your own feelings about being discriminated against by inconsiderate Jews going on their rants about the Holocaust, don't belong in the focus of an article.  You have every right to feel upset about the Blitzkrieg and Nazi occupation of your land, including your upset attitude in being slighted by the ignorance of foreigners who think that damage to your people was neglible or meaningless.  It is their ignorance and apathy that keeps them from forgetting about your loss, but Poles don't shove guilt upon the world about the Holocaust as many Jews seem to do.  Take it from me.  I used to have many misconceptions about the Poles and Wikipedia has changed them.    \\n\\n\"</td>\n",
       "    </tr>\n",
       "    <tr>\n",
       "      <th>32</th>\n",
       "      <td>184</td>\n",
       "      <td>IM SICK OF THHIS GUY \\nI WILL BE SILENCED NO MORE THIS NOT VANDALISM SO HE CANNOT ERASE IT FOR NO REASON I AM JUST SIMPLY VOICING MY OPINION SO HA DOES NE1 ELSE AGREE</td>\n",
       "      <td>Where is the Obama Criticism section?\\nGO ahead, censor my post again, I'll just repost it.  You wont stop me, unless you ban me.  But why would you ban me?  Because You will not include a section that other candidates have?  BIAS!   Wikipedia has a terrible reputation, and the hawks here are proof.  I speak for A LOT of people.</td>\n",
       "    </tr>\n",
       "    <tr>\n",
       "      <th>37</th>\n",
       "      <td>139</td>\n",
       "      <td>No Picture? \\n\\nWith such a heinous murder and rape spree, why isn't there a picture of the thug? His spiteful, bastard face must be seen to have the full effect: Mugshot\\n\\nAlso, it should be mentioned somewhere, maybe in a Controversies section, that the Oakland black community and black activist groups actually came to Mixon's defense- calling him a soldier, a hero, and a victim: Source 1 , Source 2 50.29.10.210</td>\n",
       "      <td>\"Some liberal kook writes \"\"A standalone \"\"Credibility\"\" section would be too hurtful to her and her family.\"\"\\n\\nHurtful to her family?? This woman is LYING through her teeth about being an Indian. And she is running to be one of only 100 US Senators. Is whether or not something is hurtful 'to her and her family' (meaning of course to her CAMPAIGN!!) the standard you use when you collect all the TRASH you possibly can on Michelle Malkin, Ann Coulter, Bill O'Reilly, Rush Limbaugh, Dick Cheney etc etc etc???\\nBahahahah 99.185.56.156  \\n\\n\"</td>\n",
       "    </tr>\n",
       "  </tbody>\n",
       "</table>\n",
       "</div>"
      ],
      "text/plain": [
       "    worker  \\\n",
       "0      313   \n",
       "4      539   \n",
       "5      437   \n",
       "16     258   \n",
       "17     104   \n",
       "21     277   \n",
       "22      22   \n",
       "27      95   \n",
       "32     184   \n",
       "37     139   \n",
       "\n",
       "                                                                                                                                                                                                                                                                                                                                                                                                                                                                                                                                                                                                                                                                                                                                                                                                                                                                                                                                                                                                                                                                                                                                                                                                                                                             less_toxic  \\\n",
       "0                                                                                                                                                                                                                                                                                                                                                                                                                                                                                                                                                                                                                                                                                                                                                                                                                                                                                                                                                                                                                                                                                                                                                                                                                               This article sucks \\n\\nwoo woo wooooooo   \n",
       "4                                                                                                                                                                                                                                                                                                                                                                                                                                                                                                                                                                                                                                                                                                                                                                                                                                                                                                                                                                                                                                                                                                                               smelly vagina \\n\\nBluerasberry why don't you be a model for a cheesy blue vagina syndrome. A lot are experiencing this vaginal disease.   \n",
       "5                                                                                                                                                                                                                                                                                                                                                                                                                                                                                                                                                                                                                                                                                                                                                                                                                                                                                                                                                                                                                                                                                                                                                                                  There's a better answer to the question: the people that made the anime fucked up.     \n",
       "16  \"\\nI think you went overboard here and blew your load a little too quickly by blocking me for a week for posting on my own talk page.  It really is quite ridiculous. I have understood that users on wikipedia have far greater leeway on their own user talk pages and user pages, and asking other users to stay off is an accepted practice.  My comments on the Sarah Palin edit summary probably went over the line and deserved either a warning or 1 day block because of the article probation, and I should not have reacted the way I did to the other users instigation.  But again I note that I did not notice you posting a similar warning to the user who said in his edit summary towards me \"\"then stop posting biased crap\"\" . \\nYour entitled to do whatever the fuck you want on wikipedia Coffee because you have the powers which are very hard to take away, but really learn how to read what you link to.  Lookup what the definition of harassment, I didn't threaten or try to intimidate you.  I might have insulted you and your fragile sensibilities, but I certainly did not harass you.  I stick by what I said though, please fuck off my talk page after this situation is done.  Keep fucking that chicken.  Bits andPieces \"   \n",
       "17                                                                                                                                                                                                                                                                                                                                                                                                                                                                                                                                                                                                                                                                                                                                                                                                                                                                                                                                                                                                                                                                                                                                                                             free me \\n\\ni have been banned free me you are my only hope of freedom from being banned   \n",
       "21                                                                                                                                                                                                                                                                                                                                                                                                                                                                                                                                                                                                                                                                                                                                                                                                                                                                                                                                                                                                                                   Pontiac Montana \\n\\nIf someone ever adds a sorce that says it wont be discounted i will laugh in your face karrmann because ibelive them more than you you are full of shit\\n\\nleave this article alone or i will report you \\n\\nF   \n",
       "22                                                                                                                                                                                                                                                                                                                                                                                                                                                                                                                                                                                                                                                                                                                                                                                                                                                                                                                                                                                                                                                                                                                                                                              LGagnon \\ni for one, think lgagnon is a big fat cock sucker.  lgagnon? Lgagnon my nuts.   \n",
       "27                                                                                                                                                                                                                                                                                                                                                                                                                                                                                                                                                                                                                                                                                                                                                                                                                                                                                                                     Adming  is the one who abuses Wikipedia to force his stupid personal taste for just that one particular article.  He is an admin and tries to make just one article out of line with wikipedia standards and style.  Instead of bothering me, go ask that idiot why he tries to make Wikipedia articles inconsistent.   02:47, 27 Mar 2005 (UTC)   \n",
       "32                                                                                                                                                                                                                                                                                                                                                                                                                                                                                                                                                                                                                                                                                                                                                                                                                                                                                                                                                                                                                                                                                               IM SICK OF THHIS GUY \\nI WILL BE SILENCED NO MORE THIS NOT VANDALISM SO HE CANNOT ERASE IT FOR NO REASON I AM JUST SIMPLY VOICING MY OPINION SO HA DOES NE1 ELSE AGREE   \n",
       "37                                                                                                                                                                                                                                                                                                                                                                                                                                                                                                                                                                                                                                                                                                                                                                                                                                 No Picture? \\n\\nWith such a heinous murder and rape spree, why isn't there a picture of the thug? His spiteful, bastard face must be seen to have the full effect: Mugshot\\n\\nAlso, it should be mentioned somewhere, maybe in a Controversies section, that the Oakland black community and black activist groups actually came to Mixon's defense- calling him a soldier, a hero, and a victim: Source 1 , Source 2 50.29.10.210     \n",
       "\n",
       "                                                                                                                                                                                                                                                                                                                                                                                                                                                                                                                                                                                                                                                                                                                                                                                                                                                                                                                                                                                                                                                                                                                                                                                                                                                                                                                                                                                                                                                   more_toxic  \n",
       "0                                                                                                                                                                                                                                                                                                                                                                                                                                                                                                                                                                                                                                                                                                                                                                                                                                                                                                                                                                                                                                                                                                                                                                                                                                                                      WHAT!!!!!!!!?!?!!?!?!!?!?!?!?!!!!!!!!!!!!!!!!!!!!!!!!??????????????????????????????????????????????????????!!!!!!=\\nWHER IS YOUR SEXY PIC GONE FROM YOUR MAIN PAGE???????? put it back  \n",
       "4                                                                                                                                                                                                                                                                                                                                                                                                                                                                                                                                                                                                                                                                                                                                                                                                                                                                                                                                                                                                                                                                                                                                                                                                                                                                                                                                                                                                                    hey \\n\\nway to support nazis, you racist  \n",
       "5                                                                                                                                                                                                                                                                                                                                                                                                                                                                                                                                                                                                                                                                                                                                                                                                                                                                                                                                                                                                                                                                                                                                                                                                                                                                                                                                                                 I'm not new here. I don't know what the hell you are talking about. Don't talk to me again.  \n",
       "16                                                                                                                                                                                                                                                                                                                                                                                                                                                                                                                                                                                                                                                                                                                                                                                                                                                                                                                                                                                                                                                                                                                                                                   User Talk \\n\\nYOU ARE VANDALIZING MY PAGE. PLEASE HALT. I tried to resolve this peacefully and without incident, howevever you are violating my rights as a user. I am trying to compromise and you aren't interested in the least in listening. Let us discuss this FOR THE FINAL TIME.  \n",
       "17                                                                                                                                                                                                                                                                                                                                                                                                                                                                                                                                                                                                                                                                                                                                                                                                                                                                                                                                                                                                                                                                                                                                                                                                                This has got to be the 10th time I've seen someone with this same complaint. The fact of the matter is that Wikipedia's editors are primarily young white males, and what do young white males enjoy more than pop culture? 98.207.43.214    \n",
       "21                                                                                                                                                                                                                                                                                \"\\n\\nI think the key words here are \"\"claim to have been molested.\"\"  Justin was an Internet sex entrepreneur and a high paid male prostitute, who had numerous opportunities to get out of the business had he wanted to do so.  It is only society's blind and blanket characterization of everyone under the age of 18 as having been \"\"molested\"\" when they engage in problematical sexual activity, which permits Justin to make a quick transition from selling his body to selling his victimhood. Rookiee's article was fact-based and properly sourced.  That Justin didn't like it when the facts weren't spun from a victimologist perspective is immaterial.\\n\\nWikipedia pretends that it's run by consensus as long as volunteers are happily creating multiple millions of dollars in free intellectual property for Jimbo.  Once that task is largely complete, the truth is revealed, which is that this is basically Jimbo's private BBS where he can do anything he feels like, and the contributions he paid nothing for are his to exploit any way he wishes.\\n\\nGood luck with your Oprah-esque fluff piece on the attention-seeking camwhore.  \\n\\n\"  \n",
       "22                                                                                                                                                                                                                                                                                                                                                                                                                                                                                                                                                                                                                                                                                                                                                                                                                                                                                                                                                                                                                                                                                                                    Patrick J. Kennedy\\nWhy did you delete my edit to the Patrick Kennedy article? My edit was completely factual. Homosexual Providence mayor David Cicilline will replace him in January 2011, and that is all that I wrote. I have undid your revision. Please do not erase my edits like this in the future. Thank you. 173.71.93.148    \n",
       "27  \"::Witkacy, it would be better if you refrained from saying \"\"all\"\", \"\"every\"\" or \"\"most\"\" in connection to statements about personal characteristics.  This makes the article NPOV.  I am sure that it may seem that Poles are dealt many criticisms about Anti-Semitism, but that is no different elsewhere in the world.  Of course, the unique relationship between Christian Poles and Polish Jews is duly noted as causing your perception.  Most people consider the Poles as superfriendly to Jews, but in fact the Polish commoners had no special like for Jews.  These common misperceptions would be best cleared up, if you kept all terms neutral as possible.  We don't need people getting upset and wanting to fight back and forth.  Your own feelings about being discriminated against by inconsiderate Jews going on their rants about the Holocaust, don't belong in the focus of an article.  You have every right to feel upset about the Blitzkrieg and Nazi occupation of your land, including your upset attitude in being slighted by the ignorance of foreigners who think that damage to your people was neglible or meaningless.  It is their ignorance and apathy that keeps them from forgetting about your loss, but Poles don't shove guilt upon the world about the Holocaust as many Jews seem to do.  Take it from me.  I used to have many misconceptions about the Poles and Wikipedia has changed them.    \\n\\n\"  \n",
       "32                                                                                                                                                                                                                                                                                                                                                                                                                                                                                                                                                                                                                                                                                                                                                                                                                                                                                                                                                                                                                                                                                                                 Where is the Obama Criticism section?\\nGO ahead, censor my post again, I'll just repost it.  You wont stop me, unless you ban me.  But why would you ban me?  Because You will not include a section that other candidates have?  BIAS!   Wikipedia has a terrible reputation, and the hawks here are proof.  I speak for A LOT of people.  \n",
       "37                                                                                                                                                                                                                                                                                                                                                                                                                                                                                                                                                                                                                                                                                                                                                                                                                                                                                           \"Some liberal kook writes \"\"A standalone \"\"Credibility\"\" section would be too hurtful to her and her family.\"\"\\n\\nHurtful to her family?? This woman is LYING through her teeth about being an Indian. And she is running to be one of only 100 US Senators. Is whether or not something is hurtful 'to her and her family' (meaning of course to her CAMPAIGN!!) the standard you use when you collect all the TRASH you possibly can on Michelle Malkin, Ann Coulter, Bill O'Reilly, Rush Limbaugh, Dick Cheney etc etc etc???\\nBahahahah 99.185.56.156  \\n\\n\"  "
      ]
     },
     "execution_count": 29,
     "metadata": {},
     "output_type": "execute_result"
    }
   ],
   "source": [
    "original_wrong_preds.head(10)"
   ]
  },
  {
   "cell_type": "code",
   "execution_count": 42,
   "metadata": {},
   "outputs": [
    {
     "data": {
      "text/plain": [
       "less_toxic    2.157796\n",
       "more_toxic    1.507812\n",
       "Name: 0, dtype: float64"
      ]
     },
     "execution_count": 42,
     "metadata": {},
     "output_type": "execute_result"
    }
   ],
   "source": [
    "original.loc[0]"
   ]
  },
  {
   "cell_type": "markdown",
   "metadata": {},
   "source": [
    "bad thing:\n",
    "1. index 0: sexual harassment should rank higher according to annotator. looks like curse word got ranked higher. Good thing, scores are not so far apart (but still significant) compared to Bert \n",
    "2. index 4 -> similar. scores even closer. racist stuff(nazis) should rank higher than curse word (vaginal) acc. to anno.\n",
    "3. index 17** -> model could not rank racism (in terms of white male non offensive language ) higher. Good thing score is too close. Possible wrong bcos of word ban?\n",
    "4. index 22 ** -> model score are very apart (100 times!). straight up abuse language  should rank less than homosex. stuff acc. to  anno. model ranked curse words way higher. can be one off (for me as well. looks like anno. bias. but scores should been close. kind of has scarcasm as well). All model might go wrong here\n",
    "5. index 27 -> scores are too apart (20 times). tough one.\n",
    "6. index 32 -> 10 times apart. Bert predicted correctly. hmmm\n",
    "7. index 37** -> 20 times apart are the scores. Offensive language gave higher score. interesting one. something about bad guy definitely should rank lower than supposed lying politician (makes sense in a non contextual manner). model seems to be missing context in general. bad guy -> offensive lang may be acceptable. Tough one\n",
    "\n",
    "# model has problem with non offensive language to predict correctly! Must be similar with unbiased and multingual as well."
   ]
  }
 ],
 "metadata": {
  "interpreter": {
   "hash": "a39880321af88786c208952b03056ebcfbeddf69d7aecdb8c75f75bacd597582"
  },
  "kernelspec": {
   "display_name": "Python 3.9.9 ('TOX_TF')",
   "language": "python",
   "name": "python3"
  },
  "language_info": {
   "codemirror_mode": {
    "name": "ipython",
    "version": 3
   },
   "file_extension": ".py",
   "mimetype": "text/x-python",
   "name": "python",
   "nbconvert_exporter": "python",
   "pygments_lexer": "ipython3",
   "version": "3.9.9"
  },
  "orig_nbformat": 4
 },
 "nbformat": 4,
 "nbformat_minor": 2
}
